{
 "cells": [
  {
   "cell_type": "code",
   "execution_count": 1,
   "metadata": {},
   "outputs": [
    {
     "name": "stdout",
     "output_type": "stream",
     "text": [
      "[name: \"/device:CPU:0\"\n",
      "device_type: \"CPU\"\n",
      "memory_limit: 268435456\n",
      "locality {\n",
      "}\n",
      "incarnation: 16677027235001350482\n",
      "xla_global_id: -1\n",
      ", name: \"/device:GPU:0\"\n",
      "device_type: \"GPU\"\n",
      "memory_limit: 4163895296\n",
      "locality {\n",
      "  bus_id: 1\n",
      "  links {\n",
      "  }\n",
      "}\n",
      "incarnation: 8876296270426826932\n",
      "physical_device_desc: \"device: 0, name: NVIDIA GeForce GTX 1660 Ti, pci bus id: 0000:01:00.0, compute capability: 7.5\"\n",
      "xla_global_id: 416903419\n",
      "]\n"
     ]
    }
   ],
   "source": [
    "# check if tensorflow uses GPU\n",
    "from tensorflow.python.client import device_lib\n",
    "\n",
    "print(device_lib.list_local_devices())"
   ]
  },
  {
   "cell_type": "code",
   "execution_count": 2,
   "metadata": {},
   "outputs": [
    {
     "name": "stdout",
     "output_type": "stream",
     "text": [
      "Num GPUs Available:  1\n"
     ]
    }
   ],
   "source": [
    "import tensorflow as tf\n",
    "print(\"Num GPUs Available: \", len(tf.config.list_physical_devices('GPU')))"
   ]
  },
  {
   "cell_type": "code",
   "execution_count": 9,
   "metadata": {},
   "outputs": [],
   "source": [
    "import pandas as pd\n",
    "import numpy as np\n",
    "\n",
    "# use SVM to classify the text\n",
    "from sklearn.feature_extraction.text import TfidfVectorizer\n",
    "from sklearn.svm import SVC\n",
    "from sklearn.linear_model import LogisticRegression\n",
    "from sklearn.ensemble import RandomForestClassifier\n",
    "from sklearn.naive_bayes import MultinomialNB\n",
    "from sklearn.neighbors import KNeighborsClassifier\n",
    "from sklearn.tree import DecisionTreeClassifier\n",
    "from sklearn.ensemble import AdaBoostClassifier\n",
    "from sklearn.ensemble import GradientBoostingClassifier\n",
    "from sklearn.ensemble import ExtraTreesClassifier\n",
    "from sklearn.ensemble import BaggingClassifier\n",
    "from sklearn.neural_network import MLPClassifier\n",
    "from sklearn.gaussian_process import GaussianProcessClassifier\n",
    "from sklearn.gaussian_process.kernels import RBF\n",
    "from sklearn.naive_bayes import GaussianNB\n",
    "\n",
    "from sklearn.model_selection import train_test_split\n",
    "from sklearn.metrics import accuracy_score, balanced_accuracy_score, precision_score, recall_score, roc_auc_score"
   ]
  },
  {
   "cell_type": "code",
   "execution_count": 4,
   "metadata": {},
   "outputs": [],
   "source": [
    "train_variants_df = pd.read_csv(\"../../data/training_variants/training_variants\")\n",
    "train_txt_df = pd.read_csv(\"../../data/training_text/training_text\", sep=\"\\|\\|\", engine='python', header=None, skiprows=1, names=[\"ID\",\"Text\"])\n",
    "train_data = pd.merge(train_variants_df, train_txt_df, on='ID')\n",
    "\n",
    "# get rid of NaN entries in Text column\n",
    "train_data = train_data[train_data['Text'].notnull()].copy()"
   ]
  },
  {
   "cell_type": "code",
   "execution_count": 5,
   "metadata": {},
   "outputs": [],
   "source": [
    "# split the data into train and test\n",
    "X_train, X_test, y_train, y_test = train_test_split(train_data['Text'], train_data['Class'], test_size=0.2, random_state=0)\n",
    "\n",
    "# vectorize the text\n",
    "vectorizer = TfidfVectorizer()\n",
    "X_train = vectorizer.fit_transform(X_train)\n",
    "X_test = vectorizer.transform(X_test)"
   ]
  },
  {
   "cell_type": "code",
   "execution_count": 6,
   "metadata": {},
   "outputs": [
    {
     "name": "stdout",
     "output_type": "stream",
     "text": [
      "Fitting classifier:  SVC()\n",
      "Fitting classifier:  RandomForestClassifier()\n",
      "Fitting classifier:  LogisticRegression(max_iter=1000)\n",
      "Fitting classifier:  MultinomialNB()\n",
      "Fitting classifier:  KNeighborsClassifier()\n",
      "Fitting classifier:  DecisionTreeClassifier()\n",
      "Fitting classifier:  AdaBoostClassifier()\n",
      "Fitting classifier:  GradientBoostingClassifier()\n",
      "Fitting classifier:  ExtraTreesClassifier()\n",
      "Fitting classifier:  BaggingClassifier()\n",
      "Fitting classifier:  MLPClassifier()\n"
     ]
    },
    {
     "name": "stderr",
     "output_type": "stream",
     "text": [
      "C:\\Users\\ibrah\\anaconda3\\envs\\MyDL\\lib\\site-packages\\sklearn\\neural_network\\_multilayer_perceptron.py:692: ConvergenceWarning: Stochastic Optimizer: Maximum iterations (200) reached and the optimization hasn't converged yet.\n",
      "  warnings.warn(\n"
     ]
    }
   ],
   "source": [
    "# train the models\n",
    "model_svc = SVC()\n",
    "model_rf = RandomForestClassifier()\n",
    "model_lr = LogisticRegression(max_iter=1000)\n",
    "model_nb = MultinomialNB()\n",
    "model_knn = KNeighborsClassifier()\n",
    "model_dt = DecisionTreeClassifier()\n",
    "model_ada = AdaBoostClassifier()\n",
    "model_gbc = GradientBoostingClassifier()\n",
    "model_et = ExtraTreesClassifier()\n",
    "model_bag = BaggingClassifier()\n",
    "model_mlp = MLPClassifier()\n",
    "model_gpc = GaussianProcessClassifier(1.0 * RBF(1.0))\n",
    "model_gnb = GaussianNB()\n",
    "\n",
    "classifiers = [\n",
    "    model_svc,\n",
    "    model_rf,\n",
    "    model_lr,\n",
    "    model_nb,\n",
    "    model_knn,\n",
    "    model_dt,\n",
    "    model_ada,\n",
    "    model_gbc,\n",
    "    model_et,\n",
    "    model_bag,\n",
    "    model_mlp,\n",
    "]\n",
    "\n",
    "for classifier in classifiers:\n",
    "    print(\"Fitting classifier: \", classifier)\n",
    "    classifier.fit(X_train, y_train)"
   ]
  },
  {
   "cell_type": "code",
   "execution_count": 11,
   "metadata": {},
   "outputs": [
    {
     "name": "stdout",
     "output_type": "stream",
     "text": [
      "Predicting with classifier:  SVC()\n",
      "Predicting with classifier:  RandomForestClassifier()\n",
      "Predicting with classifier:  LogisticRegression(max_iter=1000)\n",
      "Predicting with classifier:  MultinomialNB()\n",
      "Predicting with classifier:  KNeighborsClassifier()\n",
      "Predicting with classifier:  DecisionTreeClassifier()\n",
      "Predicting with classifier:  AdaBoostClassifier()\n",
      "Predicting with classifier:  GradientBoostingClassifier()\n",
      "Predicting with classifier:  ExtraTreesClassifier()\n",
      "Predicting with classifier:  BaggingClassifier()\n",
      "Predicting with classifier:  MLPClassifier()\n"
     ]
    }
   ],
   "source": [
    "# predict the test data\n",
    "pred = {}\n",
    "for classifier in classifiers:\n",
    "    print(\"Predicting with classifier: \", classifier)\n",
    "    pred[classifier.__class__.__name__] = classifier.predict(X_test)"
   ]
  },
  {
   "cell_type": "code",
   "execution_count": 12,
   "outputs": [
    {
     "name": "stdout",
     "output_type": "stream",
     "text": [
      "Accuracy score for classifier:  SVC()\n",
      "0.6204819277108434\n",
      "Accuracy score for classifier:  RandomForestClassifier()\n",
      "0.6234939759036144\n",
      "Accuracy score for classifier:  LogisticRegression(max_iter=1000)\n",
      "0.6009036144578314\n",
      "Accuracy score for classifier:  MultinomialNB()\n",
      "0.3930722891566265\n",
      "Accuracy score for classifier:  KNeighborsClassifier()\n",
      "0.5798192771084337\n",
      "Accuracy score for classifier:  DecisionTreeClassifier()\n",
      "0.5557228915662651\n",
      "Accuracy score for classifier:  AdaBoostClassifier()\n",
      "0.3569277108433735\n",
      "Accuracy score for classifier:  GradientBoostingClassifier()\n",
      "0.6144578313253012\n",
      "Accuracy score for classifier:  ExtraTreesClassifier()\n",
      "0.6174698795180723\n",
      "Accuracy score for classifier:  BaggingClassifier()\n",
      "0.6189759036144579\n",
      "Accuracy score for classifier:  MLPClassifier()\n",
      "0.6475903614457831\n"
     ]
    }
   ],
   "source": [
    "for classifier in classifiers:\n",
    "    print(\"Accuracy score for classifier: \", classifier)\n",
    "    print(accuracy_score(y_test, pred[classifier.__class__.__name__]))"
   ],
   "metadata": {
    "collapsed": false
   }
  },
  {
   "cell_type": "code",
   "execution_count": 33,
   "outputs": [],
   "source": [
    "def my_precision_score(y_true, y_pred):\n",
    "    return precision_score(y_true, y_pred, average=\"weighted\")\n",
    "\n",
    "def my_recall_score(y_true, y_pred):\n",
    "    return recall_score(y_true, y_pred, average=\"weighted\")"
   ],
   "metadata": {
    "collapsed": false
   }
  },
  {
   "cell_type": "code",
   "execution_count": 35,
   "outputs": [],
   "source": [
    "EVAL_METRIC_DICT = {\n",
    "    \"accuracy_score\": accuracy_score,\n",
    "    \"balanced_accuracy_score\": balanced_accuracy_score,\n",
    "    \"precision_score\": my_precision_score,\n",
    "    \"recall_score\": my_recall_score,\n",
    "}"
   ],
   "metadata": {
    "collapsed": false
   }
  },
  {
   "cell_type": "code",
   "execution_count": 38,
   "outputs": [
    {
     "name": "stdout",
     "output_type": "stream",
     "text": [
      "accuracy_score for classifier: SVC()\n",
      "> 0.6204819277108434\n",
      "balanced_accuracy_score for classifier: SVC()\n",
      "> 0.5151131266331513\n",
      "precision_score for classifier: SVC()\n",
      "> 0.6375148536022593\n",
      "recall_score for classifier: SVC()\n",
      "> 0.6204819277108434\n",
      "- - -\n",
      "accuracy_score for classifier: RandomForestClassifier()\n",
      "> 0.6234939759036144\n",
      "balanced_accuracy_score for classifier: RandomForestClassifier()\n",
      "> 0.5200167057447548\n",
      "precision_score for classifier: RandomForestClassifier()\n",
      "> 0.6360229631082104\n",
      "recall_score for classifier: RandomForestClassifier()\n",
      "> 0.6234939759036144\n",
      "- - -\n",
      "accuracy_score for classifier: LogisticRegression(max_iter=1000)\n",
      "> 0.6009036144578314\n",
      "balanced_accuracy_score for classifier: LogisticRegression(max_iter=1000)\n",
      "> 0.4285547546809434\n",
      "precision_score for classifier: LogisticRegression(max_iter=1000)\n",
      "> 0.5932293206587753\n",
      "recall_score for classifier: LogisticRegression(max_iter=1000)\n",
      "> 0.6009036144578314\n",
      "- - -\n",
      "accuracy_score for classifier: MultinomialNB()\n",
      "> 0.3930722891566265\n",
      "balanced_accuracy_score for classifier: MultinomialNB()\n",
      "> 0.1896006144393241\n",
      "precision_score for classifier: MultinomialNB()\n",
      "> 0.3532270564948261\n",
      "recall_score for classifier: MultinomialNB()\n",
      "> 0.3930722891566265\n",
      "- - -\n",
      "accuracy_score for classifier: KNeighborsClassifier()\n",
      "> 0.5798192771084337\n",
      "balanced_accuracy_score for classifier: KNeighborsClassifier()\n",
      "> 0.5015222591540874\n",
      "precision_score for classifier: KNeighborsClassifier()\n",
      "> 0.5850046893345087\n",
      "recall_score for classifier: KNeighborsClassifier()\n",
      "> 0.5798192771084337\n",
      "- - -\n",
      "accuracy_score for classifier: DecisionTreeClassifier()\n",
      "> 0.5557228915662651\n",
      "balanced_accuracy_score for classifier: DecisionTreeClassifier()\n",
      "> 0.4985457841704401\n",
      "precision_score for classifier: DecisionTreeClassifier()\n",
      "> 0.5691469044376157\n",
      "recall_score for classifier: DecisionTreeClassifier()\n",
      "> 0.5557228915662651\n",
      "- - -\n",
      "accuracy_score for classifier: AdaBoostClassifier()\n",
      "> 0.3569277108433735\n",
      "balanced_accuracy_score for classifier: AdaBoostClassifier()\n",
      "> 0.2582000108613012\n",
      "precision_score for classifier: AdaBoostClassifier()\n",
      "> 0.24181401812067543\n",
      "recall_score for classifier: AdaBoostClassifier()\n",
      "> 0.3569277108433735\n",
      "- - -\n",
      "accuracy_score for classifier: GradientBoostingClassifier()\n",
      "> 0.6144578313253012\n",
      "balanced_accuracy_score for classifier: GradientBoostingClassifier()\n",
      "> 0.5155076074125673\n",
      "precision_score for classifier: GradientBoostingClassifier()\n",
      "> 0.6195588329955781\n",
      "recall_score for classifier: GradientBoostingClassifier()\n",
      "> 0.6144578313253012\n",
      "- - -\n",
      "accuracy_score for classifier: ExtraTreesClassifier()\n",
      "> 0.6174698795180723\n",
      "balanced_accuracy_score for classifier: ExtraTreesClassifier()\n",
      "> 0.5375897787875651\n",
      "precision_score for classifier: ExtraTreesClassifier()\n",
      "> 0.634999558794472\n",
      "recall_score for classifier: ExtraTreesClassifier()\n",
      "> 0.6174698795180723\n",
      "- - -\n",
      "accuracy_score for classifier: BaggingClassifier()\n",
      "> 0.6189759036144579\n",
      "balanced_accuracy_score for classifier: BaggingClassifier()\n",
      "> 0.5284136663301735\n",
      "precision_score for classifier: BaggingClassifier()\n",
      "> 0.6196272784938203\n",
      "recall_score for classifier: BaggingClassifier()\n",
      "> 0.6189759036144579\n",
      "- - -\n",
      "accuracy_score for classifier: MLPClassifier()\n",
      "> 0.6475903614457831\n",
      "balanced_accuracy_score for classifier: MLPClassifier()\n",
      "> 0.5605447469303584\n",
      "precision_score for classifier: MLPClassifier()\n",
      "> 0.6479382844503561\n",
      "recall_score for classifier: MLPClassifier()\n",
      "> 0.6475903614457831\n",
      "- - -\n"
     ]
    },
    {
     "name": "stderr",
     "output_type": "stream",
     "text": [
      "C:\\Users\\ibrah\\anaconda3\\envs\\MyDL\\lib\\site-packages\\sklearn\\metrics\\_classification.py:1318: UndefinedMetricWarning: Precision is ill-defined and being set to 0.0 in labels with no predicted samples. Use `zero_division` parameter to control this behavior.\n",
      "  _warn_prf(average, modifier, msg_start, len(result))\n",
      "C:\\Users\\ibrah\\anaconda3\\envs\\MyDL\\lib\\site-packages\\sklearn\\metrics\\_classification.py:1318: UndefinedMetricWarning: Precision is ill-defined and being set to 0.0 in labels with no predicted samples. Use `zero_division` parameter to control this behavior.\n",
      "  _warn_prf(average, modifier, msg_start, len(result))\n",
      "C:\\Users\\ibrah\\anaconda3\\envs\\MyDL\\lib\\site-packages\\sklearn\\metrics\\_classification.py:1318: UndefinedMetricWarning: Precision is ill-defined and being set to 0.0 in labels with no predicted samples. Use `zero_division` parameter to control this behavior.\n",
      "  _warn_prf(average, modifier, msg_start, len(result))\n"
     ]
    }
   ],
   "source": [
    "baseline_models_performance = {}\n",
    "for classifier in classifiers:\n",
    "    scores = {}\n",
    "    for eval_metric_name, eval_metric in EVAL_METRIC_DICT.items():\n",
    "        print(f\"{eval_metric_name} for classifier: {classifier}\")\n",
    "        score = eval_metric(y_test, pred[classifier.__class__.__name__])\n",
    "        print(\">\", score)\n",
    "        scores[eval_metric_name] = score\n",
    "    baseline_models_performance[classifier.__class__.__name__] = scores\n",
    "    print(\"- - -\")"
   ],
   "metadata": {
    "collapsed": false
   }
  },
  {
   "cell_type": "code",
   "execution_count": 43,
   "outputs": [
    {
     "data": {
      "text/plain": "                            accuracy_score  balanced_accuracy_score  \\\nSVC                               0.620482                 0.515113   \nRandomForestClassifier            0.623494                 0.520017   \nLogisticRegression                0.600904                 0.428555   \nMultinomialNB                     0.393072                 0.189601   \nKNeighborsClassifier              0.579819                 0.501522   \nDecisionTreeClassifier            0.555723                 0.498546   \nAdaBoostClassifier                0.356928                 0.258200   \nGradientBoostingClassifier        0.614458                 0.515508   \nExtraTreesClassifier              0.617470                 0.537590   \nBaggingClassifier                 0.618976                 0.528414   \nMLPClassifier                     0.647590                 0.560545   \n\n                            precision_score  recall_score  \nSVC                                0.637515      0.620482  \nRandomForestClassifier             0.636023      0.623494  \nLogisticRegression                 0.593229      0.600904  \nMultinomialNB                      0.353227      0.393072  \nKNeighborsClassifier               0.585005      0.579819  \nDecisionTreeClassifier             0.569147      0.555723  \nAdaBoostClassifier                 0.241814      0.356928  \nGradientBoostingClassifier         0.619559      0.614458  \nExtraTreesClassifier               0.635000      0.617470  \nBaggingClassifier                  0.619627      0.618976  \nMLPClassifier                      0.647938      0.647590  ",
      "text/html": "<div>\n<style scoped>\n    .dataframe tbody tr th:only-of-type {\n        vertical-align: middle;\n    }\n\n    .dataframe tbody tr th {\n        vertical-align: top;\n    }\n\n    .dataframe thead th {\n        text-align: right;\n    }\n</style>\n<table border=\"1\" class=\"dataframe\">\n  <thead>\n    <tr style=\"text-align: right;\">\n      <th></th>\n      <th>accuracy_score</th>\n      <th>balanced_accuracy_score</th>\n      <th>precision_score</th>\n      <th>recall_score</th>\n    </tr>\n  </thead>\n  <tbody>\n    <tr>\n      <th>SVC</th>\n      <td>0.620482</td>\n      <td>0.515113</td>\n      <td>0.637515</td>\n      <td>0.620482</td>\n    </tr>\n    <tr>\n      <th>RandomForestClassifier</th>\n      <td>0.623494</td>\n      <td>0.520017</td>\n      <td>0.636023</td>\n      <td>0.623494</td>\n    </tr>\n    <tr>\n      <th>LogisticRegression</th>\n      <td>0.600904</td>\n      <td>0.428555</td>\n      <td>0.593229</td>\n      <td>0.600904</td>\n    </tr>\n    <tr>\n      <th>MultinomialNB</th>\n      <td>0.393072</td>\n      <td>0.189601</td>\n      <td>0.353227</td>\n      <td>0.393072</td>\n    </tr>\n    <tr>\n      <th>KNeighborsClassifier</th>\n      <td>0.579819</td>\n      <td>0.501522</td>\n      <td>0.585005</td>\n      <td>0.579819</td>\n    </tr>\n    <tr>\n      <th>DecisionTreeClassifier</th>\n      <td>0.555723</td>\n      <td>0.498546</td>\n      <td>0.569147</td>\n      <td>0.555723</td>\n    </tr>\n    <tr>\n      <th>AdaBoostClassifier</th>\n      <td>0.356928</td>\n      <td>0.258200</td>\n      <td>0.241814</td>\n      <td>0.356928</td>\n    </tr>\n    <tr>\n      <th>GradientBoostingClassifier</th>\n      <td>0.614458</td>\n      <td>0.515508</td>\n      <td>0.619559</td>\n      <td>0.614458</td>\n    </tr>\n    <tr>\n      <th>ExtraTreesClassifier</th>\n      <td>0.617470</td>\n      <td>0.537590</td>\n      <td>0.635000</td>\n      <td>0.617470</td>\n    </tr>\n    <tr>\n      <th>BaggingClassifier</th>\n      <td>0.618976</td>\n      <td>0.528414</td>\n      <td>0.619627</td>\n      <td>0.618976</td>\n    </tr>\n    <tr>\n      <th>MLPClassifier</th>\n      <td>0.647590</td>\n      <td>0.560545</td>\n      <td>0.647938</td>\n      <td>0.647590</td>\n    </tr>\n  </tbody>\n</table>\n</div>"
     },
     "execution_count": 43,
     "metadata": {},
     "output_type": "execute_result"
    }
   ],
   "source": [
    "pd.DataFrame(baseline_models_performance).T"
   ],
   "metadata": {
    "collapsed": false
   }
  },
  {
   "cell_type": "code",
   "execution_count": null,
   "outputs": [],
   "source": [],
   "metadata": {
    "collapsed": false
   }
  },
  {
   "cell_type": "code",
   "execution_count": null,
   "outputs": [],
   "source": [],
   "metadata": {
    "collapsed": false
   }
  },
  {
   "cell_type": "code",
   "execution_count": null,
   "outputs": [],
   "source": [],
   "metadata": {
    "collapsed": false
   }
  },
  {
   "cell_type": "code",
   "execution_count": 12,
   "metadata": {},
   "outputs": [
    {
     "name": "stdout",
     "output_type": "stream",
     "text": [
      "\n",
      "Model: \"sequential_3\"\n",
      "_________________________________________________________________\n",
      " Layer (type)                Output Shape              Param #   \n",
      "=================================================================\n",
      " embedding_3 (Embedding)     (None, 100, 50)           8276050   \n",
      "                                                                 \n",
      " global_max_pooling1d_3 (Glo  (None, 50)               0         \n",
      " balMaxPooling1D)                                                \n",
      "                                                                 \n",
      " dense_6 (Dense)             (None, 10)                510       \n",
      "                                                                 \n",
      " dense_7 (Dense)             (None, 10)                110       \n",
      "                                                                 \n",
      "=================================================================\n",
      "Total params: 8,276,670\n",
      "Trainable params: 8,276,670\n",
      "Non-trainable params: 0\n",
      "_________________________________________________________________\n",
      "Model summary:  None\n",
      "Training Accuracy: 0.8311\n",
      "Testing Accuracy:  0.5602\n",
      "21/21 [==============================] - 0s 2ms/step\n",
      "Accuracy score for classifier:  0.5602409638554217\n"
     ]
    }
   ],
   "source": [
    "# use NLP to classify the text deep learning\n",
    "import tensorflow as tf\n",
    "from tensorflow import keras\n",
    "from tensorflow.keras import layers\n",
    "from tensorflow.keras.preprocessing.text import Tokenizer\n",
    "from tensorflow.keras.preprocessing.sequence import pad_sequences\n",
    "\n",
    "# ensure that code uses GPU\n",
    "print(tf.test.gpu_device_name())\n",
    "\n",
    "# split the data into train and test\n",
    "X_train, X_test, y_train, y_test = train_test_split(train_data['Text'], train_data['Class'], test_size=0.2, random_state=0)\n",
    "\n",
    "# vectorize the text\n",
    "tokenizer = Tokenizer(num_words=5000)\n",
    "tokenizer.fit_on_texts(X_train)\n",
    "\n",
    "X_train = tokenizer.texts_to_sequences(X_train)\n",
    "X_test = tokenizer.texts_to_sequences(X_test)\n",
    "\n",
    "vocab_size = len(tokenizer.word_index) + 1\n",
    "\n",
    "maxlen = 100\n",
    "\n",
    "X_train = pad_sequences(X_train, padding='post', maxlen=maxlen)\n",
    "X_test = pad_sequences(X_test, padding='post', maxlen=maxlen)\n",
    "\n",
    "# train the model\n",
    "embedding_dim = 50\n",
    "\n",
    "model = keras.Sequential()\n",
    "model.add(layers.Embedding(input_dim=vocab_size,\n",
    "                            output_dim=embedding_dim,\n",
    "                            input_length=maxlen))\n",
    "model.add(layers.GlobalMaxPool1D())\n",
    "model.add(layers.Dense(10, activation='relu'))\n",
    "model.add(layers.Dense(10, activation='softmax'))\n",
    "model.compile(optimizer='adam',\n",
    "                loss='sparse_categorical_crossentropy',\n",
    "                metrics=['accuracy'])\n",
    "print(\"Model summary: \", model.summary())\n",
    "\n",
    "history = model.fit(X_train, y_train,\n",
    "                    epochs=50,\n",
    "                    verbose=False,\n",
    "                    validation_data=(X_test, y_test))\n",
    "                    \n",
    "loss, accuracy = model.evaluate(X_train, y_train, verbose=False)\n",
    "print(\"Training Accuracy: {:.4f}\".format(accuracy))\n",
    "loss, accuracy = model.evaluate(X_test, y_test, verbose=False)\n",
    "print(\"Testing Accuracy:  {:.4f}\".format(accuracy))\n",
    "\n",
    "# predict the test data\n",
    "pred = model.predict(X_test)\n",
    "pred = np.argmax(pred, axis=1)\n",
    "\n",
    "print(\"Accuracy score for classifier: \", accuracy_score(y_test, pred))"
   ]
  },
  {
   "cell_type": "code",
   "execution_count": 13,
   "metadata": {},
   "outputs": [
    {
     "data": {
      "image/png": "[encoded data removed]",
      "text/plain": [
       "<Figure size 1000x1000 with 2 Axes>"
      ]
     },
     "metadata": {},
     "output_type": "display_data"
    }
   ],
   "source": [
    "# confusion matrix\n",
    "from sklearn.metrics import confusion_matrix\n",
    "\n",
    "cm = confusion_matrix(y_test, pred)\n",
    "\n",
    "# plot confusion matrix\n",
    "import seaborn as sns\n",
    "import matplotlib.pyplot as plt\n",
    "\n",
    "plt.figure(figsize=(10,10))\n",
    "sns.heatmap(cm, annot=True, fmt=\"d\")\n",
    "plt.title(\"Confusion matrix\")\n",
    "plt.ylabel('Actual label')\n",
    "plt.xlabel('Predicted label')\n",
    "plt.show()"
   ]
  },
  {
   "cell_type": "code",
   "execution_count": null,
   "metadata": {},
   "outputs": [],
   "source": []
  },
  {
   "cell_type": "code",
   "execution_count": null,
   "metadata": {},
   "outputs": [],
   "source": []
  },
  {
   "cell_type": "code",
   "execution_count": null,
   "metadata": {},
   "outputs": [],
   "source": []
  },
  {
   "cell_type": "code",
   "execution_count": null,
   "metadata": {},
   "outputs": [],
   "source": []
  },
  {
   "cell_type": "code",
   "execution_count": null,
   "metadata": {},
   "outputs": [],
   "source": []
  },
  {
   "cell_type": "code",
   "execution_count": null,
   "metadata": {},
   "outputs": [],
   "source": []
  },
  {
   "cell_type": "code",
   "execution_count": 7,
   "metadata": {},
   "outputs": [],
   "source": [
    "# look into the COSMIC. "
   ]
  },
  {
   "cell_type": "code",
   "execution_count": null,
   "metadata": {},
   "outputs": [],
   "source": []
  },
  {
   "cell_type": "code",
   "execution_count": null,
   "metadata": {},
   "outputs": [],
   "source": []
  },
  {
   "cell_type": "code",
   "execution_count": null,
   "metadata": {},
   "outputs": [],
   "source": []
  },
  {
   "cell_type": "code",
   "execution_count": 154,
   "metadata": {},
   "outputs": [
    {
     "data": {
      "text/html": [
       "<div>\n",
       "<style scoped>\n",
       "    .dataframe tbody tr th:only-of-type {\n",
       "        vertical-align: middle;\n",
       "    }\n",
       "\n",
       "    .dataframe tbody tr th {\n",
       "        vertical-align: top;\n",
       "    }\n",
       "\n",
       "    .dataframe thead th {\n",
       "        text-align: right;\n",
       "    }\n",
       "</style>\n",
       "<table border=\"1\" class=\"dataframe\">\n",
       "  <thead>\n",
       "    <tr style=\"text-align: right;\">\n",
       "      <th></th>\n",
       "      <th>ID</th>\n",
       "      <th>Gene</th>\n",
       "      <th>Variation</th>\n",
       "      <th>Class</th>\n",
       "      <th>Text</th>\n",
       "    </tr>\n",
       "  </thead>\n",
       "  <tbody>\n",
       "    <tr>\n",
       "      <th>3297</th>\n",
       "      <td>3297</td>\n",
       "      <td>RUNX1</td>\n",
       "      <td>R177*</td>\n",
       "      <td>4</td>\n",
       "      <td>THE AML1 GENE IS KNOWN as the most frequent ta...</td>\n",
       "    </tr>\n",
       "    <tr>\n",
       "      <th>3298</th>\n",
       "      <td>3298</td>\n",
       "      <td>RUNX1</td>\n",
       "      <td>Y113*</td>\n",
       "      <td>4</td>\n",
       "      <td>Introduction  Myelodysplastic syndromes (MDS) ...</td>\n",
       "    </tr>\n",
       "    <tr>\n",
       "      <th>3299</th>\n",
       "      <td>3299</td>\n",
       "      <td>RUNX1</td>\n",
       "      <td>R139G</td>\n",
       "      <td>4</td>\n",
       "      <td>The BCR-ABL fusion protein generated by t(9;22...</td>\n",
       "    </tr>\n",
       "    <tr>\n",
       "      <th>3300</th>\n",
       "      <td>3300</td>\n",
       "      <td>RUNX1</td>\n",
       "      <td>K83N</td>\n",
       "      <td>4</td>\n",
       "      <td>The most frequent mutations associated with le...</td>\n",
       "    </tr>\n",
       "    <tr>\n",
       "      <th>3301</th>\n",
       "      <td>3301</td>\n",
       "      <td>RUNX1</td>\n",
       "      <td>R177Q</td>\n",
       "      <td>4</td>\n",
       "      <td>The most frequent mutations associated with le...</td>\n",
       "    </tr>\n",
       "    <tr>\n",
       "      <th>3302</th>\n",
       "      <td>3302</td>\n",
       "      <td>RUNX1</td>\n",
       "      <td>R166Q</td>\n",
       "      <td>4</td>\n",
       "      <td>Familial platelet disorder with predisposition...</td>\n",
       "    </tr>\n",
       "    <tr>\n",
       "      <th>3303</th>\n",
       "      <td>3303</td>\n",
       "      <td>RUNX1</td>\n",
       "      <td>P173S</td>\n",
       "      <td>4</td>\n",
       "      <td>Introduction  Myelodysplastic syndromes (MDS) ...</td>\n",
       "    </tr>\n",
       "    <tr>\n",
       "      <th>3304</th>\n",
       "      <td>3304</td>\n",
       "      <td>RUNX1</td>\n",
       "      <td>R201Q</td>\n",
       "      <td>4</td>\n",
       "      <td>Familial platelet disorder with predisposition...</td>\n",
       "    </tr>\n",
       "    <tr>\n",
       "      <th>3305</th>\n",
       "      <td>3305</td>\n",
       "      <td>RUNX1</td>\n",
       "      <td>S70fsX93</td>\n",
       "      <td>4</td>\n",
       "      <td>Introduction  Myelodysplastic syndromes (MDS) ...</td>\n",
       "    </tr>\n",
       "    <tr>\n",
       "      <th>3306</th>\n",
       "      <td>3306</td>\n",
       "      <td>RUNX1</td>\n",
       "      <td>W279*</td>\n",
       "      <td>1</td>\n",
       "      <td>Here we report two new RUNX1 mutations in one ...</td>\n",
       "    </tr>\n",
       "    <tr>\n",
       "      <th>3307</th>\n",
       "      <td>3307</td>\n",
       "      <td>RUNX1</td>\n",
       "      <td>Truncating Mutations</td>\n",
       "      <td>1</td>\n",
       "      <td>The RUNX genes have come to prominence recentl...</td>\n",
       "    </tr>\n",
       "    <tr>\n",
       "      <th>3308</th>\n",
       "      <td>3308</td>\n",
       "      <td>RUNX1</td>\n",
       "      <td>R174*</td>\n",
       "      <td>7</td>\n",
       "      <td>Familial platelet disorder with propensity to...</td>\n",
       "    </tr>\n",
       "    <tr>\n",
       "      <th>3309</th>\n",
       "      <td>3309</td>\n",
       "      <td>RUNX1</td>\n",
       "      <td>D171G</td>\n",
       "      <td>1</td>\n",
       "      <td>The BCR-ABL fusion protein generated by t(9;22...</td>\n",
       "    </tr>\n",
       "    <tr>\n",
       "      <th>3310</th>\n",
       "      <td>3310</td>\n",
       "      <td>RUNX1</td>\n",
       "      <td>Amplification</td>\n",
       "      <td>7</td>\n",
       "      <td>RUNX proteins belong to a family of metazoan t...</td>\n",
       "    </tr>\n",
       "    <tr>\n",
       "      <th>3311</th>\n",
       "      <td>3311</td>\n",
       "      <td>RUNX1</td>\n",
       "      <td>RUNX1-EVI1 Fusion</td>\n",
       "      <td>4</td>\n",
       "      <td>The AML1/EVI-1 chimeric gene is generated by t...</td>\n",
       "    </tr>\n",
       "    <tr>\n",
       "      <th>3312</th>\n",
       "      <td>3312</td>\n",
       "      <td>RUNX1</td>\n",
       "      <td>TEL-RUNX1 Fusion</td>\n",
       "      <td>4</td>\n",
       "      <td>Balanced chromosomal translocations are freque...</td>\n",
       "    </tr>\n",
       "    <tr>\n",
       "      <th>3313</th>\n",
       "      <td>3313</td>\n",
       "      <td>RUNX1</td>\n",
       "      <td>H78Q</td>\n",
       "      <td>4</td>\n",
       "      <td>The BCR-ABL fusion protein generated by t(9;22...</td>\n",
       "    </tr>\n",
       "    <tr>\n",
       "      <th>3314</th>\n",
       "      <td>3314</td>\n",
       "      <td>RUNX1</td>\n",
       "      <td>G42R</td>\n",
       "      <td>6</td>\n",
       "      <td>Introduction  Myelodysplastic syndromes (MDS) ...</td>\n",
       "    </tr>\n",
       "    <tr>\n",
       "      <th>3315</th>\n",
       "      <td>3315</td>\n",
       "      <td>RUNX1</td>\n",
       "      <td>RUNX1-RUNX1T1 Fusion</td>\n",
       "      <td>4</td>\n",
       "      <td>The RUNX gene family includes three evolutiona...</td>\n",
       "    </tr>\n",
       "    <tr>\n",
       "      <th>3316</th>\n",
       "      <td>3316</td>\n",
       "      <td>RUNX1</td>\n",
       "      <td>D171N</td>\n",
       "      <td>4</td>\n",
       "      <td>Introduction  Myelodysplastic syndromes (MDS) ...</td>\n",
       "    </tr>\n",
       "    <tr>\n",
       "      <th>3317</th>\n",
       "      <td>3317</td>\n",
       "      <td>RUNX1</td>\n",
       "      <td>A122*</td>\n",
       "      <td>1</td>\n",
       "      <td>Introduction  Myelodysplastic syndromes (MDS) ...</td>\n",
       "    </tr>\n",
       "    <tr>\n",
       "      <th>3318</th>\n",
       "      <td>3318</td>\n",
       "      <td>RUNX1</td>\n",
       "      <td>Fusions</td>\n",
       "      <td>1</td>\n",
       "      <td>The Runt-related transcription factor 1 gene (...</td>\n",
       "    </tr>\n",
       "    <tr>\n",
       "      <th>3319</th>\n",
       "      <td>3319</td>\n",
       "      <td>RUNX1</td>\n",
       "      <td>R80C</td>\n",
       "      <td>4</td>\n",
       "      <td>The RUNX1/AML1 gene is the most frequent targe...</td>\n",
       "    </tr>\n",
       "    <tr>\n",
       "      <th>3320</th>\n",
       "      <td>3320</td>\n",
       "      <td>RUNX1</td>\n",
       "      <td>K83E</td>\n",
       "      <td>4</td>\n",
       "      <td>The most frequent mutations associated with le...</td>\n",
       "    </tr>\n",
       "  </tbody>\n",
       "</table>\n",
       "</div>"
      ],
      "text/plain": [
       "        ID   Gene             Variation  Class  \\\n",
       "3297  3297  RUNX1                 R177*      4   \n",
       "3298  3298  RUNX1                 Y113*      4   \n",
       "3299  3299  RUNX1                 R139G      4   \n",
       "3300  3300  RUNX1                  K83N      4   \n",
       "3301  3301  RUNX1                 R177Q      4   \n",
       "3302  3302  RUNX1                 R166Q      4   \n",
       "3303  3303  RUNX1                 P173S      4   \n",
       "3304  3304  RUNX1                 R201Q      4   \n",
       "3305  3305  RUNX1              S70fsX93      4   \n",
       "3306  3306  RUNX1                 W279*      1   \n",
       "3307  3307  RUNX1  Truncating Mutations      1   \n",
       "3308  3308  RUNX1                 R174*      7   \n",
       "3309  3309  RUNX1                 D171G      1   \n",
       "3310  3310  RUNX1         Amplification      7   \n",
       "3311  3311  RUNX1     RUNX1-EVI1 Fusion      4   \n",
       "3312  3312  RUNX1      TEL-RUNX1 Fusion      4   \n",
       "3313  3313  RUNX1                  H78Q      4   \n",
       "3314  3314  RUNX1                  G42R      6   \n",
       "3315  3315  RUNX1  RUNX1-RUNX1T1 Fusion      4   \n",
       "3316  3316  RUNX1                 D171N      4   \n",
       "3317  3317  RUNX1                 A122*      1   \n",
       "3318  3318  RUNX1               Fusions      1   \n",
       "3319  3319  RUNX1                  R80C      4   \n",
       "3320  3320  RUNX1                  K83E      4   \n",
       "\n",
       "                                                   Text  \n",
       "3297  THE AML1 GENE IS KNOWN as the most frequent ta...  \n",
       "3298  Introduction  Myelodysplastic syndromes (MDS) ...  \n",
       "3299  The BCR-ABL fusion protein generated by t(9;22...  \n",
       "3300  The most frequent mutations associated with le...  \n",
       "3301  The most frequent mutations associated with le...  \n",
       "3302  Familial platelet disorder with predisposition...  \n",
       "3303  Introduction  Myelodysplastic syndromes (MDS) ...  \n",
       "3304  Familial platelet disorder with predisposition...  \n",
       "3305  Introduction  Myelodysplastic syndromes (MDS) ...  \n",
       "3306  Here we report two new RUNX1 mutations in one ...  \n",
       "3307  The RUNX genes have come to prominence recentl...  \n",
       "3308   Familial platelet disorder with propensity to...  \n",
       "3309  The BCR-ABL fusion protein generated by t(9;22...  \n",
       "3310  RUNX proteins belong to a family of metazoan t...  \n",
       "3311  The AML1/EVI-1 chimeric gene is generated by t...  \n",
       "3312  Balanced chromosomal translocations are freque...  \n",
       "3313  The BCR-ABL fusion protein generated by t(9;22...  \n",
       "3314  Introduction  Myelodysplastic syndromes (MDS) ...  \n",
       "3315  The RUNX gene family includes three evolutiona...  \n",
       "3316  Introduction  Myelodysplastic syndromes (MDS) ...  \n",
       "3317  Introduction  Myelodysplastic syndromes (MDS) ...  \n",
       "3318  The Runt-related transcription factor 1 gene (...  \n",
       "3319  The RUNX1/AML1 gene is the most frequent targe...  \n",
       "3320  The most frequent mutations associated with le...  "
      ]
     },
     "execution_count": 154,
     "metadata": {},
     "output_type": "execute_result"
    }
   ],
   "source": [
    "# deep learning NLP to predict the class\n",
    "\n",
    "# import keras\n",
    "from keras.preprocessing.text import Tokenizer\n",
    "\n"
   ]
  },
  {
   "cell_type": "code",
   "execution_count": 149,
   "metadata": {},
   "outputs": [
    {
     "name": "stdout",
     "output_type": "stream",
     "text": [
      "i:  40126\n",
      "nd MDS/AML.\n",
      "nd MDS/AML. Somatica\n"
     ]
    }
   ],
   "source": [
    "# import difflib\n",
    "import difflib \n",
    "\n",
    "\n",
    "string_1 = train_data.loc[3317, \"Text\"]\n",
    "string_2 = train_data.loc[3316, \"Text\"]\n",
    "\n",
    "# at which location the two strings are different\n",
    "for i in range(len(string_1)):\n",
    "    if string_1[i] != string_2[i]:\n",
    "        print(i)\n",
    "        break\n",
    "\n",
    "# print the two strings\n",
    "print(\"i: \", i)\n",
    "print(string_1[i-10:i+10])\n",
    "print(string_2[i-10:i+10])"
   ]
  },
  {
   "cell_type": "code",
   "execution_count": 152,
   "metadata": {},
   "outputs": [
    {
     "data": {
      "text/plain": [
       "\". Somatically acquired point mutations of AML1/RUNX1 gene have been recently identified in rare cases of acute myeloid leukemia (AML) and myelodysplastic syndrome (MDS). Moreover, germ line mutations of AML1 were found in an autosomal dominant disease, familial platelet disorder with predisposition to AML (FPD/AML), suggesting that AML1 mutants, as well as AML1 chimeras, contribute to the transformation of hematopoietic progenitors. In this report, we showed that AML1 point mutations were found in 6 (46%) of 13 MDS patients among atomic bomb (A-bomb) survivors in Hiroshima. Unlike acute or chronic leukemia patients among A-bomb survivors, MDS patients exposed relatively low-dose radiation and developed the disease after a long latency period. AML1 mutations also were found in 5 (38%) of 13 therapy-related AML/MDS patients who were treated with alkylating agents with or without local radiation therapy. In contrast, frequency of AML1 mutation in sporadic MDS patients was 2.7% (2 of 74). Among AML1 mutations identified in this study, truncated-type mutants lost DNA binding potential and trans-activation activity. All missense mutations with one exception (Gly42Arg) lacked DNA binding ability and down-regulated the trans-activation potential of wild-type AML1 in a dominant-negative fashion. The Gly42Arg mutation that was shared by 2 patients bound DNA even more avidly than wild-type AML1 and enhanced thetrans-activation potential of normal AML1. These results suggest that AML1 point mutations are related to low-dose radiation or alkylating agents and play a role distinct from that of leukemogenic chimeras as a result of chromosomal translocations caused by sublethal radiation or topoisomerase II inhibitors.  Introduction  Genes encoding transcription factors that play critical roles in hematopoiesis are frequently involved in the genetic alterations in leukemia and myelodysplastic syndrome (MDS). A good example is AML1/RUNX1/CBFA2, which encodes a component of the AML1–core binding factor β (CBFβ) transcriptional factor complex. Analysis of AML1- and CBFβ-deficient mice revealed that both factors are indispensable for the establishment of definitive hematopoiesis.1-5 AML1 is also well known as one of the genes most frequently involved in the chromosomal translocations of human leukemia.6 It is generally accepted that the AML1-ETO fusion transcription factor that is created by the 8;21 translocations contributes to leukemogenesis through suppression of the trans-activation potential of the AML1-CBFβ complex in a dominant-negative fashion.7  In addition to chromosomal translocations, recent studies have identified several somatically acquired point mutations of theAML1 gene that occurred exclusively within the DNA bindingrunt homology domain (RHD) in sporadic AML/MDS patients.8 9 Because of the low frequencies of point mutations (0%-7.1%) and the divergent effects of these mutants on thetrans-activation activity of the AML1-CBFβ complex,8 the biologic significance of these mutations in the malignant transformation of hematopoietic progenitors was initially controversial. Recent findings, however, support the hypothesis that AML1 point mutations contribute to the development of acute myeloid leukemia (AML)/myelodysplastic syndrome (MDS). First, it has been demonstrated that AML1 mutations occurred at a substantially higher frequency in specific subtypes of AML, such as poorly differentiated AML M0 (22%) and myeloid malignancies associated with acquired trisomy 21 (38%).10 Second, germ line mutations of AML1 have been shown to occur in a rare autosomal dominant disorder, familial platelet disorder with predisposition to AML (FPD/AML).11 12 Third, many of the point mutations identified in the diseases mentioned above have been found to overlap. Finally, the crystal structure of the RHD-CBFβ-DNA ternary complex has been determined,13-16 and it has been revealed that most of the amino acid residues replaced by the missense mutations were those that directly contact DNA.  The AML1 gene also was reported as a target of gene alteration by ionizing radiation (IR) and anticancer drugs in experimental systems.17 18 Moreover, human leukemias associated with AML1 gene translocations after anticancer therapy or low-dose radiation have been reported,19 20although the role of radiation in these patients is controversial.21 In this report, we tested the frequency of point mutations in the AML1 gene in MDS patients among atomic bomb (A-bomb) survivors in Hiroshima, as well as in therapy-related MDS/AML. We found unexpectedly high frequencies ofAML1 mutations in these patients, suggesting that radiation and anticancer drugs contribute to the development of MDS/AML through mutations of the AML1 gene.  Patients and methods  Patients' materials  We examined 74 cases of sporadic MDS and 13 cases of MDS among A-bomb survivors, who were diagnosed at Hiroshima University Hospital between 1995 and 2001. According to the Dosimetry System 1986 (DS86), free-in-air kerma at a distance of 1, 1.5, 2, and 2.5 km from the hypocenter of Hiroshima is approximately 4, 0.5, 0.07, and 0.01 Gy, respectively.22 23 Taking account of exposure from residual radiation, we defined those who exposed A-bomb within 3 km of the hypocenter as A-bomb survivors. We also examined 6 cases of therapy-related MDS/AML, 67 cases of myeloproliferative disorders (MPDs) in the chronic phase (13 myelofibrosis [MF], 21 essential thrombocythemia [ET], 12 polycythemia vera [PV], 1 atypical MPD, and 20 chronic myeloid leukemia [CML]), 2 cases of paroxysmal nocturnal hematuria (PNH), 2 cases of CML in blast crisis, 7 cases of secondary leukemia (1 MF, 2 ET, 3 PV, and 1 PNH), and 30 cases of healthy volunteers. Diagnosis was based on morphologic and immunophenotypic studies according to French-American-British (FAB) classification.24 Cytogenetic analyses with standard procedures were performed according to the International System of Human Cytogenetic Nomenclature (1995). Patient samples were taken after obtaining informed consent and approval from the institutional review board at Hiroshima University. Mononuclear cells were isolated from bone marrow or peripheral blood samples by Ficoll-Conray density gradient centrifugation. Genomic DNA was extracted with a Puregene Kit (Gentra, Minneapolis, MN), and total RNA was extracted using a TRIzol Kit (Gibco Life Technologies, Rockville, MD), according to the manufacturers' instructions.  Polymerase chain reaction–single-strand conformation polymorphism (PCR-SSCP)  100 ng genomic DNA was amplified by PCR in a total volume of 20 μL containing 1\\u2009× PCR buffer (Perkin-Elmer, Foster City, CA), 0.2 mM dNTP (deoxynucleoside triphosphate; Perkin-Elmer), 0.2 μM of each primer, and 0.5 unit of AmpliTaq (Perkin-Elmer). PCR of exons 3 through 5 of the AML1 gene performed using the following flanking intronic, forward/reverse primers; 5′-AGCTGTTTGCAGGGTCCTAA-3′/5′-GTCCTCCCACCACCCTCT-3′ for exon 3, 5′-CATTGCTATTCCTCTGCAACC-3′/5-CCATGAAACGTGTTTCAAGC-3′ for exon 4, and 5′-CCACCAACCTCATTCTGTTT-3′/5′-AGACATGGTCCCTGAGTATA-3′ for exon 5. To identify AML1 mutations, SSCP analysis was performed on a GenePhor system (Amersham Pharmacia Biotech, Buckinghamshire, England) using 12.5% GeneGel Excel (Amersham Pharmacia Biotech). After electrophoresis, gels were silver-stained to visualize the bands. All PCR products with abnormal SSCP bands were confirmed by an independent amplification and SSCP analysis.  Identification of AML1 mutations  PCR products that showed abnormal bands were subcloned into a pCR2.1 vector (Invitrogen, Carlsbad, CA), and 8 independent clones were sequenced in both directions using BigDye Terminator Cycle sequencing kit (Perkin-Elmer) and analyzed on ABI Prism 310 Genetic Analyzer (Perkin-Elmer). To confirm mutations, PCR products from cDNA were also sequenced. First-strand cDNA was synthesized using total RNA and random hexamers with SuperScript II reverse transcriptase (Gibco). The cDNA products were amplified with the following primers: 5′-GCAGGGTCCTAACTCAATCG-3′/5′-GCTCGGAAAAGGACAAGCTC-3′, and subcloned PCR products were sequenced as described above.  Cell culture and transfection  The cell lines Cos-7 and HeLa were cultured in Dulbecco modified Eagle medium (Gibco), and U937 in RPMI 1640 (Gibco) supplemented with 10% fetal calf serum, 2 mM glutamine at 37°C in a humidified atmosphere with 5% CO2. Cos-7 cells were transfected using SuperFect (Qiagen, Hilden, Germany) according to the manufacturer's instructions. For reporter assay, HeLa cells were transfected by the calcium phosphate precipitation method25 and U937 cells by Effectene (Qiagen).  Plasmid constructions  The entire coding regions of wild-type AML1 or CBFβ generated by PCR using Pfu polymerase (Stratagene, La Jolla, CA), were subcloned into pcDNA3.1 expression vector (Invitrogen). PCR-generated fragments encoding AML1 or AML1 mutants with an N-terminus FLAG (Asp-Tyr-Lys-Asp-Asp-Asp-Asp-Lys) epitope were also subcloned into pcDNA3.1 vector. The integrity of the amplified sequence was confirmed by DNA sequencing. A reporter plasmid containing a macrophage colony-stimulating factor receptor (M-CSFR) promoter (pM-CSF-R-luc)26 was kindly provided by Dr D. Zhang (Beth Israel Hospital and Harvard Medical School).  Immunoprecipitations and Western blot analysis  Cos-7 cells were transfected using Superfect (Qiagen) with 5 μg of pcDNA3.1-CBFβ and 5 μg FLAG-tagged AML1 or AML1 mutants expression plasmid. After 24 hours, the cells were lysed in the lysis buffer (20 mM Tris[tris(hydroxymethyl)aminomethane]-HCl, pH 7.5; 150 mM NaCl; 1% Nonidet P40; 1 mM phenylmethlsulfonyl fluoride (PMSF); 1 μg/mL leupeptin). The lysates were sonicated and then incubated with protein G (Pharmacia Biotech) to block nonspecific binding proteins. A portion of each lysate was removed for immunoblot analysis. A 20-μL volume of a 50% slurry of anti–FLAG M2 beads (Sigma, St Louis, MO) was added to the lysates, incubated for 4 hours at 4°C, and washed 3 times with lysis buffer. FLAG beads were blocked in phosphate-buffered saline (PBS) containing 1% bovine serum albumin prior to addition to the lysates. For Western blot, the lysates or the supernatants from immune complex beads after boiling in Laemmli buffer were separated by 15% sodium dodecyl sulfate–polyacrylamide gel electrophoresis gel and transferred to Hybond ECL (Amersham Pharmacia Biotech). The membrane was blocked in 5% nonfat milk in PBS-T (0.1% Tween-20) and hybridized sequentially with primary antibodies and a horseradish peroxidase–conjugated secondary antibody (Amersham Pharmacia Biotech). The primary antibodies used in this study were anti-M2 antibody (Sigma), anti-AML1 polyclonal antibody (Oncogene Research Products, Boston MA), and anti-CBFβ polyclonal antibody (Oncogene Research Products). Bound antibodies were detected by enhanced chemiluminescence (ECL) using a Western blotting kit (Amersham Pharmacia Biotech).  Electrophoretic mobility shift assay  Nuclear extracts from Cos-7 cells, which were transiently transfected with the corresponding expression plasmid, were prepared as described previously.27 Protein concentrations were determined with Bradford reagents (Bio-Rad, Hercules, CA). Electrophoretic mobility shift assay (EMSA) was performed as previously described.28 DNA binding reactions were prepared in a buffer containing 20 mM HEPES (N-2-hydroxyethylpiperazine-N′-2-ethanesulfonic acid), 1 mM MgCl2, 0.1 mM ethylene glycol-bis (β-aminoethylether)-N, N, N′, N′-tetraacetic acid (EGTA), 0.4 mM dithiothreitol, 40 mM KCl, and 60 μg of salmon sperm DNA per milliliter. Annealed oligomers containing the AML1 binding site were labeled with α-[32P]dATP (deoxyadenosine triphosphate; Amersham Pharmacia Biotech) in a standard Klenow reaction mixture. For competition studies, 100 ng unlabeled, annealed oligomers containing the wild-type (TGTGGT) or mutated (TGTTAG) AML binding site was added into the DNA binding reaction mixtures. For supershift analyses, 1 μg of AML1 antibody was used.  Transcriptional assay  HeLa cells were transiently transfected by calcium phosphate precipitates containing the luciferase reporter plasmid pM-CSF-R-luc, pcDNA3.1-CBFβ, and pcDNA3.1-FLAG-tagged AML1 or AML1 mutants expression plasmid. The total amount of plasmid for each transfection was adjusted to 9.25 μg by adding empty expression plasmid. Cells were harvested and lysed 48 hours after transfection, and luciferase assays using a luminometer Fluroskan Ascent (Labsystems, Helsinki, Finland) were performed by Dual luciferase assay systems (Promega, Madison, WI) according to the manufacturer's instructions. Results of the reporter assays represented the average values for relative luciferase activity generated from 3 independent experiments that were normalized using the activity of pRL-tk (Promega) as an internal control. To analyze functional competitions between wild-type AML1 and mutants, U937 cells were transfected with pM-CSF-R-luc, wild-type AML1, and AML1 mutants expression plasmid using Effectene (Qiagen). Empty plasmid was added to bring the total amount of DNA per transfection to 2.8 μg. Luciferase assays were performed as described above.  Results  High frequency of AML1 mutations in radiation-associated and therapy-related MDS/AML  To investigate the AML1 mutations in radiation-associated and therapy-related MDS/AML, we analyzed exons 3 through 5 (corresponding to amino acid 1 to 177) of the AML1gene by PCR-SSCP assay using genomic DNA extracted from mononuclear cells in the bone marrow of patients. Mutations were further confirmed by sequence analysis of RT-PCR products. AML1 mutations were found in only 2 (2.7%) of 74 sporadic MDS patients, in accordance with previous studies8-11 (Table1). In contrast, AML1mutations were identified in 6 (46%) of 13 MDS cases, who had been within 3 km of the hypocenter of the atomic bomb explosion in Hiroshima (see “Patients and methods”). The frequency of AML1mutations in MDS patients among A-bomb survivors was significantly higher than that in sporadic MDS cases (P\\u2009<\\u2009.0001). The clinical findings of these patients are summarized in Table2. Unlike acute and chronic leukemia patients among A-bomb survivors, only 3 (22%) of 14 MDS patients had been within 1 km of the hypocenter. Two cases had silent mutations (Pro157syn and Thr101syn), 3 cases had missense mutations (Gly42Arg, Asp171Asn, and Gly42Arg), and one case had a frame shift/nonsense mutation (Ser70fsTer93). Of sporadic MDS patients with AML1mutations, one patient (case 7) had a past history of manufacturing a poison gas (mustard gas) during World War II.  View inlineView popup Table 1. The frequency of AML1 mutations in the specific subtype of MDS View inlineView popup Table 2. Clinical and cytogenetical features of the MDS patients Next, we analyzed the mutations of therapy-related MDS/AML cases. Missense mutations were found in 2 (33%) of 6 cases (Table3). A refractory anemia with excess of blasts in transformation (RAEBt) patient (case 9) after chemotherapy with mainly alkylating agents and a long period of high-dose radiation therapy for astrocytoma had a missense mutation (Arg177Gln), and the other patient (case 10, Gly138_Arg139insGlyGly), who had been exposed to the A-bomb at a point 4.0 kilometers from the hypocenter, developed AML M0 after intensive multidrug chemotherapy and radiation therapy for B-cell lymphoma.  View inlineView popup Table 3. Clinical features and mutation characteristics of the patients with therapy-related leukemia Finally, of the 7 patients who developed AML after myeloproliferative disorders (MPD) or other hematologic diseases, 3 patients (43%) had missense or nonsense mutations (Table 4). These 3 patients were treated with busulfan, while none of the other 4 patients received this alkylating agent. Case 11, who developed AML after myelofibrosis, had been treated with radiation therapy for splenomegaly. Cases 11 and 12 had had no mutations and chromosomal abnormalities in the chronic phase of MPD. No AML1 mutations were found in 47 MPD and 20 CML patients in the chronic phase.  View inlineView popup Table 4. Clinical features and mutation characteristics of the patients with leukemia secondary to MPD The AML1 mutations identified in our study are summarized in Figure 1. We observed virtually equal intensities of normal and shifted bands in the PCR-SSCP analysis of all the samples with AML1 mutations and obtained comparable frequencies of normal and mutated results in the sequence analysis. In addition, germ line genomic DNA sequences were examined in specimens from nonleukemic organs from 6 cases (cases 4, 5, 6, 9, 10, and 12) and found to be normal (data not shown), suggesting that mutations of theAML1 gene were monoallelic at the somatic level. Mutations of the CEBPA gene, which encodes the transcription factor CCAAT/enhancer binding protein α (C/EBPα) were not detected in this study.  Fig. 1. Download figureOpen in new tabDownload powerpoint Fig. 1. Summary of the AML1 point mutations identified in this study.Horizontal bars diagrammatically show AML1 (453 aa) including the Runt domain (50-177; shaded boxes). The numbers in the left-hand column indicate the case numbers (1-13) described in Tables 2, 3, and 4. The regions where the point mutations are mapped in the runt domain are described in the right-hand column. Mutant numbers are used in the next figures. Abilities of AML1 mutants to bind DNA and to heterodimerize with CBFβ  RHD mediates both DNA binding and heterodimerization with CBFβ. To analyze the DNA binding ability of AML1 mutants, a radiolabeled oligonucleotide probe containing the consensus binding sequence for AML1 and nuclear extracts from Cos-7 cells transfected with AML1 mutants were used in electromobility shift analysis (EMSA). A DNA/protein complex was detected when using nuclear extract from a transfectant expressing FLAG-tagged wild-type AML1 (Figure 2A, lane 2) that was not observed when using an extract from the mock transfectant (lane 1). This complex was supershifted with a specific serum against AML1 (lane 3) and was competed for by the nonradiolabeled oligonucleotide containing AML1 binding site (lane 4), but was not competed for by those containing a mutated AML1 binding site (lane 5), indicating that the complex contains AML1. The complex was not detected using extracts from the transfectants of AML1 mutants that occurred in RHD (lanes 6-8 and 10-13), while the intensity of complex was enhanced using an extract from the transfectant expressing the Gly42Arg mutant (lane 9), indicating that all the AML1 mutants except Gly42Arg lack DNA-binding potential.  Fig. 2. Download figureOpen in new tabDownload powerpoint Fig. 2. Abilities of AML1 mutants to bind DNA and to heterodimerize with CBFβ.(A) DNA binding potential of AML1 mutants analyzed by EMSA using nuclear extract from Cos-7 cells transfected with wild-type AML1 or mutated AML1 expression plasmid vectors. The oligonucleotides used as competitors were as follows: “W” containing one wild-type AML1 binding site (CGAGTATTGTGGTTAATACG); “M” containing one mutated AML1 binding site (CGAGTATTGTTAGTAATACG). (B) Heterodimerization ability of AML1 mutants with CBFβ. Cos-7 cells were cotransfected with an expression vector containing CBFβ cDNA and those containing either wild-type AML1 or mutated AML1 cDNA. Cell lysates were immunoprecipitated (IP) with anti–FLAG M2 antibody, and then proteins were detected by immunoblot analysis (WB) using anti-CBFβ antibody (top). The expression levels of CBFβ and AML1 in total cell lysates were detected by immunoblot analysis with anti-CBFβ antibody (upper middle) and anti–FLAG M2 antibody (lower middle), respectively. The AML1 expression levels also were analyzed by anti-AML1 antibody (bottom). The numbers of AML1 mutants (1-10) are shown in Figure 1. To test whether AML1 mutants are able to interact with CBFβ, we performed immunoblot analysis after immunoprecipitation. Cos-7 cells were cotransfected the FLAG-tagged wild-type or mutated AML1 (Figure2B, lower 2 panels), together with CBFβ (second panel). CBFβ was coimmunoprecipitated with FLAG-tagged wild-type AML1 by beads coated with anti-FLAG antibody (top panel, lane 3). CBFβ also was coimmunoprecipitated with missense AML1 mutants (lanes 7-11), but not with truncated type mutants (lanes 4-6). These results suggested that the loss of the heterodimerization with CBFβ depends on a deletion within RHD.  Transcriptional potential of AML1 mutants  To investigate the transcriptional activities of the AML1 mutants, reporter experiments were performed using the promoter of M-CSFR, which is known to be transcriptionally regulated by AML1.26 When wild-type AML1 and CBFβ were cotransfected in HeLa cells, the promoter activity was induced 8-fold compared to transfection with CBFβ alone (Figure 3A, lanes 1 and 2). In contrast, none of the nonsilent mutants except Gly42Arg induced significant trans-activation (lanes 3-10), in accordance with their DNA binding abilities (Figure2A). To examine whether AML1 mutants act as dominant negative inhibitors of wild-type AML1, we performed the same reporter assay using U937 monocytic cells, in which the activity of the M-CSFR promoter was trans-activated by transfecting AML1 alone in a dose-dependent manner (Figure 3B). When the truncated type AML1 mutants (mutants 1 to 3) were cotransfected with wild-type AML1, the promoter activities were not affected. In contrast, 4 missense type AML1 mutants (mutants 6, 8, 9, and 10), which lack the DNA-binding ability but retain the potential to bind CBFβ (Figure 2A-B), suppressed thetrans-activation activity of wild-type AML1 in a dose-dependent fashion. As expected, the Gly42Arg mutant induced the promoter activity more efficiently than wild-type AML1. Thus, AML1 mutants identified in MDS/AML patients had significantly different effects on the same M-CSFR promoter.  Fig. 3. Download figureOpen in new tabDownload powerpoint Fig. 3. Transcriptional potential of AML1 mutants.(A) Transcriptional activities of the AML1 mutants in HeLa cells. Cells were transfected with 5 μg of pM-CSF-R-luc, 3 μg of FLAG-tagged AML1 or AML1 mutant expression vector, 1 μg of the CBFβ expression vector, and 0.25 μg of pRL-tk as an internal control to normalize luciferase activities for transfection efficiency. The levels of expression of CBFβ and AML1 were detected by Western blot analysis with anti-CBFβ antibody (middle) and anti–FLAG M2 antibody (bottom), respectively. (B) Transcriptional activities of the AML1 mutants in U937 cells. Cells were transfected with 2 μg of pM-CSF-R-luc reporter plasmid, an indicated amount of AML1 expression constructs, and 0.2 μg of pRL-tk as an internal control that normalizes luciferase activities for transfection efficiency. The expression vector containing wild-type AML1 (0.2 μg) was cotransfected with increasing doses (0, 0.1, 0.2, and 0.4 μg) of expression vectors containing various AML1 mutants. Each value represents the mean of 3 independent experiments. The error bars indicate the mean ± SD. The numbers of AML1 mutants (1-10) are shown in Figure 1. Discussion  In this paper, we report that AML1 point mutations were detected in virtually half of late-onset MDS patients among the A-bomb survivors of Hiroshima. AML1 was also frequently mutated in MDS/AML patients after treatments that contain alkylating agents and/or local radiation for nonhematopoietic malignancies or MPD. Although we performed PCR-SSCP analysis under optimized conditions, we can't exclude the possibility that some mutants were not detectable by our method. Therefore, the actual mutation frequency could be higher.  The incidence of acute and chronic leukemia among A-bomb survivors was sharply dose-dependent, and the leukemia developed after a short latency period. Leukemias appeared after a minimum latency period of 2-3 years, reached a maximum after 6-7 years, and then decreased slowly with time (Figure 4).29 In contrast, the dose-dependency of the risk of other tumors was less prominent, and the incidence of these diseases increased after long minimum latency periods of 10 or more years and continued to increase with time.29 Most of the MDS patients in our study received a low radiation dose judging by their proximity to the hypocenter, as shown in Table 2. Indeed, with the exception of 3 cases, the estimated radiation dose of these patients was below 50 cGy, according to the DS86.22 23 This apparent difference in the distribution of radiation dose between leukemia and late-onset MDS among A-bomb survivors may be interpreted, at least in part, by molecular mechanisms that contribute to the transformation of hematopoietic progenitors. Leukemogenic fusion genes as a result of nonrandom chromosomal translocations are detected in approximately half of acute leukemia patients30 but are relatively rare in MDS cases,31 many of which are generally considered to develop as a result of the accumulation of gene deletions and point mutations.32 Thus, chromosomal translocations caused by double-strand DNA breaks resulting from high dose radiation are likely to contribute to the development of acute and chronic leukemia after a short latency time, whereas point mutations of genes induced by low-dose radiation may contribute to the development of MDS among A-bomb survivors decades later.  Fig. 4. Download figureOpen in new tabDownload powerpoint Fig. 4. Schematic diagram of the incidence of radiation-induced cancer after atomic bombing.Adapted with permission from Kato and Shimizu.29 This idea is supported by a report that investigated “innocent” point mutations in hematopoietic progenitors of healthy A-bomb survivors. Langlois et al33 reported the increased frequency of somatic cell mutations at the glycophorin A (GPA) locus in red blood cells (RBCs) among A-bomb survivors. Although the variant frequencies (VFs) at the GPA locus increased in a dose-dependent fashion among survivors exposed to low-dose exposure (< 1.7 Gy), large fluctuations in VFs were seen for moderate-dose survivors (1.7 to 5 Gy), and VFs were uniformly low for high-dose survivors (> 5 Gy). They interpreted these apparently paradoxical results in terms of the numbers of surviving hematopoietic stem cells, which decrease exponentially with the radiation dose. Because a low-dose exposure of 50 cGy would produce minimal cell kill and induce a VF of around 10\\u2009×\\u200910−6, the number of stem-cell mutations per A-bomb survivor would be 10 to 100, while an exposure of 8 Gy would reduce the stem-cell pool to about 102-103 cells, so that even with an expected VF of 200\\u2009×\\u200910−6 no mutation would be recorded in most individuals. Importantly, the ratio of RBCs harboring the GPA mutations in each individual did not increase with time.34 In contrast, almost all of the bone marrow cells in MDS patients in our study harbored AML1 mutations, judging by the intensity of normal and shifted bands in SSCP analysis, suggesting that the cells expressing mutated AML1 obtained a growth advantage and ultimately occupied the space for hematopoiesis.  A question may be raised that if the MDS patients among A-bomb survivors in this study acquired their AML1 mutations at the time of exposure, then 50 years is too long to develop MDS. The pedigrees of FPD/AML may provide the answer.11 12 AML is mainly an adult-onset disease in FPD/AML patients, suggesting that the accumulation of additional gene alterations required to transform hematopoietic progenitors takes decades, even though all stem cells of FPD/AML patients harbor AML1 gene mutation. Thus, it is not surprising that one stem cell that acquired AML1 mutation took a half century to develop MDS.  Alkylating agents and topoisomerase II inhibitors are 2 major drugs that would induce distinctive therapy-related MDS/AML (t-MDS/AML). Patients who develop AML after exposure to alkylating agents mostly have long latency periods, and AML is often preceded by a myelodysplastic phase. Deletion or loss of chromosome 5 or 7,35 as well as mutations of genes such as p53, are frequently observed.36 In contrast, AML cases after exposure to topoisomerase II inhibitors typically have a short latency time without prior MDS and harbor balanced translocations involving chromosome bands 3q26, 11q23, and 21q22.35 All t-MDS/AML patients in our study who had an AML1 mutation were treated with alkylating agents, with or without local radiation, and had relatively long latency periods (range, 60-182 months; median, 123 months) without chromosomal translocations, suggesting that there is a close relation between AML1 mutation and t-MDS/AML associated with alkylating agents, although further large studies are necessary to confirm this. Also, it remains to be established whether AML1 mutations in t-AML secondary to MPD were induced in normal hematopoietic progenitors by alkylating agents or were acquired in abnormal progenitors as a second hit during the progression from preleukemic phase to overt leukemia.  The crystal structure of the runt domain-CBFβ-DNA ternary complex has been determined recently and provides a structural basis for the effects of human disease-associated mutations on the biologic function of the AML1 protein.13-16 DNA binding is mediated by 3 loops called loop(βA'-B), loop(βE'-F), and C-terminal tail in the runt domain, and the amino acid residues (Arg80, Lys83, Thr84, Arg135, Arg139, Gly141, Arg142, Gly143, Ile168, Thr169, Val170, Asp171, Arg174, and Arg177) that directly contact the DNA were determined. Half of these residues (Arg80, Lys83, Arg135, Arg139, Asp171, Arg174, and Arg177) were found to be the targets of amino acid replacement by missense mutations in de novo MDS/AML and/or FPD/AML pedigrees in previous reports. Conversely, all missense mutations, with one exception (His58Asn, discussed below), that were identified in previous papers were mapped to these 3 loops, and biochemical data for these mutants, as well as for truncated type mutations as a result of frame shift, demonstrated the lack of DNA binding potential.8 9 11 13 14 In contrast, amino acid residues in domains responsible for binding CBFβ, which are distinct from those involved in DNA binding, were never reported to be mutated in MDS/AML. In our study, all missense mutations but one (Gly42Arg) also occurred in the 3 loops responsible for DNA binding and were associated with a loss of DNA binding ability (Table 5 and Figure 2A), indicating that AML1 mutations associated with low-dose radiation and alkylating agents, as well as in de novo MDS/AML and FPD/AML, contribute to the transformation of hematopoietic progenitors by altering the DNA binding potential of this critical transcription factor in hematopoiesis.  View inlineView popup Table 5. Summary of mutations found in this study Although almost all the missense and truncated-type mutants of AML1 in the previous reports and in this paper lose DNA binding potential, and thus lack the trans-activation activity when tested by reporter assay using the M-CSFR promoter (Figure 3A), the missense mutations down-regulated the trans-activation potential of wild-type AML1 in a dominant-negative fashion, while the truncated-type mutations have no such effect (Figure 3B). This difference is important, because normal AML1 protein is expected to be expressed in MDS/AML cells because the normal allele for AML1 gene is usually retained. On the other hand, 2 missense mutations, His58Asn and Gly42Arg, bind DNA even more avidly than wild-type AML1 and enhance thetrans-activation potential of normal AML1 (Osato et al8 and Figure 3B). These somewhat puzzling findings could be explained by the choice of promoter in the reporter assay, because M-CSFR is unlikely to be the true target gene of AML1 mutants in the transformation process of hematopoietic progenitors. Alternatively, subtle dysregulation of the trans-activation activity of AML1, even up-regulation or down-regulation, might provide a growth advantage to hematopoietic cells. In this regard, 2 silent mutations (Thr101syn, Pro157syn) identified in this study would have pathologic significance. Although they may most simply be taken to represent a polymorphism, we did not find any other silent mutations among more than 300 samples. Thus, we assumed that these mutations might somehow affect the expression levels of AML1 protein through a posttranscriptional mechanism.  Because no mutations were detected in the C-terminal portion of AML1 (amino acid 178 to 453) in previous studies,8 11 we initially limited our SSCP analysis to the RHD. However, if subtle alteration of AML1 function could result in leukemogenic potential, mutations may exist also in the C-terminal portion that mediatestrans-activating potential. Indeed, a substantial number of nonsense or insertion/deletion mutations were found in the C-terminal portion (amino acid 215 to 507) of AML3/RUNX2/CBFA1, another member of the Runx transcription factor family that shares the RHD, in patients with a hereditary bone disease, cleidocranial dysplasia, which is caused by mutation of AML3 mainly in the RHD (Otto et al37). Thus, we extended our efforts to detect mutations in the C-terminal portion of AML1 in AML/MDS patients. We found a few patients with insertion/deletion mutants that resulted in frameshift mutations, although no mutations were found in A-bomb survivors (data not shown). Careful functional analysis of mutations in theAML1 gene should be performed to clarify these unsolved questions using in vitro and in vivo experimental systems. To develop the latter, mice carrying mutated AML1 genes are currently being established in our laboratory.\""
      ]
     },
     "execution_count": 152,
     "metadata": {},
     "output_type": "execute_result"
    }
   ],
   "source": [
    "string_2[40126: ]"
   ]
  }
 ],
 "metadata": {
  "kernelspec": {
   "display_name": "Python 3.10.8 ('MyDeepLearning')",
   "language": "python",
   "name": "python3"
  },
  "language_info": {
   "codemirror_mode": {
    "name": "ipython",
    "version": 3
   },
   "file_extension": ".py",
   "mimetype": "text/x-python",
   "name": "python",
   "nbconvert_exporter": "python",
   "pygments_lexer": "ipython3",
   "version": "3.10.8"
  },
  "orig_nbformat": 4,
  "vscode": {
   "interpreter": {
    "hash": "5240663cdcad6f9d8bc3c0618495d7abb1c94afaa089854d380091b378a272df"
   }
  }
 },
 "nbformat": 4,
 "nbformat_minor": 2
}
