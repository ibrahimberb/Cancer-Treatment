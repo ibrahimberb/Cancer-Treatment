{
 "cells": [
  {
   "cell_type": "code",
   "execution_count": 1,
   "metadata": {},
   "outputs": [
    {
     "data": {
      "text/plain": "      GENE MUTATION_REMARK             GENOMIC_MUTATION_ID  FUSION_ID  \\\n11    ABL1      ABL1_E459K                        59343946        NaN   \n12    ABL1      ABL1_F317L  59323734 + 59325287 + 59339731        NaN   \n13    ABL1      ABL1_G250E                        59324360        NaN   \n14    ABL1      ABL1_M244V                        59334206        NaN   \n15    ABL1      ABL1_M351T                        59325906        NaN   \n...    ...             ...                             ...        ...   \n8866  TP53      TP53_R249M                        52668050        NaN   \n8867  TP53      TP53_S127Y                        52731113        NaN   \n8868  TP53      TP53_Y220C                        52661282        NaN   \n8869  TP53      TP53_Y220C                        52661282        NaN   \n9043  TSC2      TSC2_W358*             54765859 + 54773870        NaN   \n\n     MUTATION_AA_SYNTAX                                            DISEASE  \\\n11              p.E459K  haematopoietic and lymphoid tissue / haematopo...   \n12              p.F317L  haematopoietic and lymphoid tissue / haematopo...   \n13              p.G250E  haematopoietic and lymphoid tissue / haematopo...   \n14              p.M244V  haematopoietic and lymphoid tissue / haematopo...   \n15              p.M351T  haematopoietic and lymphoid tissue / haematopo...   \n...                 ...                                                ...   \n8866            p.R249M                              NS / other / neoplasm   \n8867            p.S127Y                              NS / other / neoplasm   \n8868            p.Y220C                              NS / other / neoplasm   \n8869            p.Y220C                              NS / other / neoplasm   \n9043            p.W358*  soft tissue / perivascular epithelioid cell tu...   \n\n      ACTIONABILITY_RANK DEVELOPMENT_STATUS  \\\n11                     3            Phase 2   \n12                     3            Phase 2   \n13                     3            Phase 2   \n14                     3            Phase 2   \n15                     3            Phase 2   \n...                  ...                ...   \n8866                   3            Phase 2   \n8867                   3            Phase 2   \n8868                   3            Phase 1   \n8869                   3            Phase 2   \n9043                   4         Case study   \n\n                                  DRUG_COMBINATION TESTING_REQUIRED  ...  \\\n11                                       Nilotinib              NaN  ...   \n12                                       Nilotinib              NaN  ...   \n13                                       Nilotinib              NaN  ...   \n14                                       Nilotinib              NaN  ...   \n15                                       Nilotinib              NaN  ...   \n...                                            ...              ...  ...   \n8866  GRT-C903 + GRT-R904 + Ipilimumab + Nivolumab              NaN  ...   \n8867  GRT-C903 + GRT-R904 + Ipilimumab + Nivolumab              NaN  ...   \n8868                                       ALT-801              NaN  ...   \n8869                                       PC14586              NaN  ...   \n9043                                    Everolimus              NaN  ...   \n\n     RFS_TREAT RFS_CON RFS_HR RFS_CI RFS_PVAL        BLOOD_RESPONSE  \\\n11         NaN     NaN    NaN    NaN      NaN  Complete hematologic   \n12         NaN     NaN    NaN    NaN      NaN  Complete hematologic   \n13         NaN     NaN    NaN    NaN      NaN  Complete hematologic   \n14         NaN     NaN    NaN    NaN      NaN  Complete hematologic   \n15         NaN     NaN    NaN    NaN      NaN  Complete hematologic   \n...        ...     ...    ...    ...      ...                   ...   \n8866       NaN     NaN    NaN    NaN      NaN                   NaN   \n8867       NaN     NaN    NaN    NaN      NaN                   NaN   \n8868       NaN     NaN    NaN    NaN      NaN                   NaN   \n8869       NaN     NaN    NaN    NaN      NaN                   NaN   \n9043       NaN     NaN    NaN    NaN      NaN                   NaN   \n\n     RESPONSE_VALUE TIMEPOINT  CLASSIFICATION_ID LAST_UPDATED  \n11             67.0       NaN       COSO27985052    2021Jul12  \n12             67.0       NaN       COSO27985052    2021Jul12  \n13             33.0       NaN       COSO27985052    2021Jul12  \n14             60.0       NaN       COSO27985052    2021Jul12  \n15             80.0       NaN       COSO27985052    2021Jul12  \n...             ...       ...                ...          ...  \n8866            NaN       NaN       COSO31314888    2021Jun04  \n8867            NaN       NaN       COSO31314888    2021Jun04  \n8868            NaN       NaN       COSO31314888    2021May18  \n8869            NaN       NaN       COSO31314888    2021May18  \n9043            NaN       NaN      COSO298911569    2021May18  \n\n[822 rows x 67 columns]",
      "text/html": "<div>\n<style scoped>\n    .dataframe tbody tr th:only-of-type {\n        vertical-align: middle;\n    }\n\n    .dataframe tbody tr th {\n        vertical-align: top;\n    }\n\n    .dataframe thead th {\n        text-align: right;\n    }\n</style>\n<table border=\"1\" class=\"dataframe\">\n  <thead>\n    <tr style=\"text-align: right;\">\n      <th></th>\n      <th>GENE</th>\n      <th>MUTATION_REMARK</th>\n      <th>GENOMIC_MUTATION_ID</th>\n      <th>FUSION_ID</th>\n      <th>MUTATION_AA_SYNTAX</th>\n      <th>DISEASE</th>\n      <th>ACTIONABILITY_RANK</th>\n      <th>DEVELOPMENT_STATUS</th>\n      <th>DRUG_COMBINATION</th>\n      <th>TESTING_REQUIRED</th>\n      <th>...</th>\n      <th>RFS_TREAT</th>\n      <th>RFS_CON</th>\n      <th>RFS_HR</th>\n      <th>RFS_CI</th>\n      <th>RFS_PVAL</th>\n      <th>BLOOD_RESPONSE</th>\n      <th>RESPONSE_VALUE</th>\n      <th>TIMEPOINT</th>\n      <th>CLASSIFICATION_ID</th>\n      <th>LAST_UPDATED</th>\n    </tr>\n  </thead>\n  <tbody>\n    <tr>\n      <th>11</th>\n      <td>ABL1</td>\n      <td>ABL1_E459K</td>\n      <td>59343946</td>\n      <td>NaN</td>\n      <td>p.E459K</td>\n      <td>haematopoietic and lymphoid tissue / haematopo...</td>\n      <td>3</td>\n      <td>Phase 2</td>\n      <td>Nilotinib</td>\n      <td>NaN</td>\n      <td>...</td>\n      <td>NaN</td>\n      <td>NaN</td>\n      <td>NaN</td>\n      <td>NaN</td>\n      <td>NaN</td>\n      <td>Complete hematologic</td>\n      <td>67.0</td>\n      <td>NaN</td>\n      <td>COSO27985052</td>\n      <td>2021Jul12</td>\n    </tr>\n    <tr>\n      <th>12</th>\n      <td>ABL1</td>\n      <td>ABL1_F317L</td>\n      <td>59323734 + 59325287 + 59339731</td>\n      <td>NaN</td>\n      <td>p.F317L</td>\n      <td>haematopoietic and lymphoid tissue / haematopo...</td>\n      <td>3</td>\n      <td>Phase 2</td>\n      <td>Nilotinib</td>\n      <td>NaN</td>\n      <td>...</td>\n      <td>NaN</td>\n      <td>NaN</td>\n      <td>NaN</td>\n      <td>NaN</td>\n      <td>NaN</td>\n      <td>Complete hematologic</td>\n      <td>67.0</td>\n      <td>NaN</td>\n      <td>COSO27985052</td>\n      <td>2021Jul12</td>\n    </tr>\n    <tr>\n      <th>13</th>\n      <td>ABL1</td>\n      <td>ABL1_G250E</td>\n      <td>59324360</td>\n      <td>NaN</td>\n      <td>p.G250E</td>\n      <td>haematopoietic and lymphoid tissue / haematopo...</td>\n      <td>3</td>\n      <td>Phase 2</td>\n      <td>Nilotinib</td>\n      <td>NaN</td>\n      <td>...</td>\n      <td>NaN</td>\n      <td>NaN</td>\n      <td>NaN</td>\n      <td>NaN</td>\n      <td>NaN</td>\n      <td>Complete hematologic</td>\n      <td>33.0</td>\n      <td>NaN</td>\n      <td>COSO27985052</td>\n      <td>2021Jul12</td>\n    </tr>\n    <tr>\n      <th>14</th>\n      <td>ABL1</td>\n      <td>ABL1_M244V</td>\n      <td>59334206</td>\n      <td>NaN</td>\n      <td>p.M244V</td>\n      <td>haematopoietic and lymphoid tissue / haematopo...</td>\n      <td>3</td>\n      <td>Phase 2</td>\n      <td>Nilotinib</td>\n      <td>NaN</td>\n      <td>...</td>\n      <td>NaN</td>\n      <td>NaN</td>\n      <td>NaN</td>\n      <td>NaN</td>\n      <td>NaN</td>\n      <td>Complete hematologic</td>\n      <td>60.0</td>\n      <td>NaN</td>\n      <td>COSO27985052</td>\n      <td>2021Jul12</td>\n    </tr>\n    <tr>\n      <th>15</th>\n      <td>ABL1</td>\n      <td>ABL1_M351T</td>\n      <td>59325906</td>\n      <td>NaN</td>\n      <td>p.M351T</td>\n      <td>haematopoietic and lymphoid tissue / haematopo...</td>\n      <td>3</td>\n      <td>Phase 2</td>\n      <td>Nilotinib</td>\n      <td>NaN</td>\n      <td>...</td>\n      <td>NaN</td>\n      <td>NaN</td>\n      <td>NaN</td>\n      <td>NaN</td>\n      <td>NaN</td>\n      <td>Complete hematologic</td>\n      <td>80.0</td>\n      <td>NaN</td>\n      <td>COSO27985052</td>\n      <td>2021Jul12</td>\n    </tr>\n    <tr>\n      <th>...</th>\n      <td>...</td>\n      <td>...</td>\n      <td>...</td>\n      <td>...</td>\n      <td>...</td>\n      <td>...</td>\n      <td>...</td>\n      <td>...</td>\n      <td>...</td>\n      <td>...</td>\n      <td>...</td>\n      <td>...</td>\n      <td>...</td>\n      <td>...</td>\n      <td>...</td>\n      <td>...</td>\n      <td>...</td>\n      <td>...</td>\n      <td>...</td>\n      <td>...</td>\n      <td>...</td>\n    </tr>\n    <tr>\n      <th>8866</th>\n      <td>TP53</td>\n      <td>TP53_R249M</td>\n      <td>52668050</td>\n      <td>NaN</td>\n      <td>p.R249M</td>\n      <td>NS / other / neoplasm</td>\n      <td>3</td>\n      <td>Phase 2</td>\n      <td>GRT-C903 + GRT-R904 + Ipilimumab + Nivolumab</td>\n      <td>NaN</td>\n      <td>...</td>\n      <td>NaN</td>\n      <td>NaN</td>\n      <td>NaN</td>\n      <td>NaN</td>\n      <td>NaN</td>\n      <td>NaN</td>\n      <td>NaN</td>\n      <td>NaN</td>\n      <td>COSO31314888</td>\n      <td>2021Jun04</td>\n    </tr>\n    <tr>\n      <th>8867</th>\n      <td>TP53</td>\n      <td>TP53_S127Y</td>\n      <td>52731113</td>\n      <td>NaN</td>\n      <td>p.S127Y</td>\n      <td>NS / other / neoplasm</td>\n      <td>3</td>\n      <td>Phase 2</td>\n      <td>GRT-C903 + GRT-R904 + Ipilimumab + Nivolumab</td>\n      <td>NaN</td>\n      <td>...</td>\n      <td>NaN</td>\n      <td>NaN</td>\n      <td>NaN</td>\n      <td>NaN</td>\n      <td>NaN</td>\n      <td>NaN</td>\n      <td>NaN</td>\n      <td>NaN</td>\n      <td>COSO31314888</td>\n      <td>2021Jun04</td>\n    </tr>\n    <tr>\n      <th>8868</th>\n      <td>TP53</td>\n      <td>TP53_Y220C</td>\n      <td>52661282</td>\n      <td>NaN</td>\n      <td>p.Y220C</td>\n      <td>NS / other / neoplasm</td>\n      <td>3</td>\n      <td>Phase 1</td>\n      <td>ALT-801</td>\n      <td>NaN</td>\n      <td>...</td>\n      <td>NaN</td>\n      <td>NaN</td>\n      <td>NaN</td>\n      <td>NaN</td>\n      <td>NaN</td>\n      <td>NaN</td>\n      <td>NaN</td>\n      <td>NaN</td>\n      <td>COSO31314888</td>\n      <td>2021May18</td>\n    </tr>\n    <tr>\n      <th>8869</th>\n      <td>TP53</td>\n      <td>TP53_Y220C</td>\n      <td>52661282</td>\n      <td>NaN</td>\n      <td>p.Y220C</td>\n      <td>NS / other / neoplasm</td>\n      <td>3</td>\n      <td>Phase 2</td>\n      <td>PC14586</td>\n      <td>NaN</td>\n      <td>...</td>\n      <td>NaN</td>\n      <td>NaN</td>\n      <td>NaN</td>\n      <td>NaN</td>\n      <td>NaN</td>\n      <td>NaN</td>\n      <td>NaN</td>\n      <td>NaN</td>\n      <td>COSO31314888</td>\n      <td>2021May18</td>\n    </tr>\n    <tr>\n      <th>9043</th>\n      <td>TSC2</td>\n      <td>TSC2_W358*</td>\n      <td>54765859 + 54773870</td>\n      <td>NaN</td>\n      <td>p.W358*</td>\n      <td>soft tissue / perivascular epithelioid cell tu...</td>\n      <td>4</td>\n      <td>Case study</td>\n      <td>Everolimus</td>\n      <td>NaN</td>\n      <td>...</td>\n      <td>NaN</td>\n      <td>NaN</td>\n      <td>NaN</td>\n      <td>NaN</td>\n      <td>NaN</td>\n      <td>NaN</td>\n      <td>NaN</td>\n      <td>NaN</td>\n      <td>COSO298911569</td>\n      <td>2021May18</td>\n    </tr>\n  </tbody>\n</table>\n<p>822 rows × 67 columns</p>\n</div>"
     },
     "execution_count": 1,
     "metadata": {},
     "output_type": "execute_result"
    }
   ],
   "source": [
    "import pandas\n",
    "\n",
    "COSMIC_DATA_PATH = \"../../data/cosmic/ActionabilityData.tsv\"\n",
    "\n",
    "cosmic_data = pandas.read_csv(COSMIC_DATA_PATH, sep=\"\\t\", low_memory=False)\n",
    "# drop entries whre MUTATION_AA_SYNTAX is NaN\n",
    "cosmic_data = cosmic_data.dropna(subset=[\"MUTATION_AA_SYNTAX\"])\n",
    "cosmic_data"
   ]
  },
  {
   "cell_type": "code",
   "execution_count": 2,
   "metadata": {},
   "outputs": [],
   "source": [
    "gene_mutation = cosmic_data[\"MUTATION_REMARK\"].str.split(\"_\", n=1, expand=True)\n",
    "gene_mutation.reset_index(drop=True, inplace=True)\n",
    "gene_mutation.columns = [\"GENE\", \"MUTATION\"]"
   ]
  },
  {
   "cell_type": "code",
   "execution_count": 3,
   "metadata": {},
   "outputs": [
    {
     "data": {
      "text/plain": "     GENE MUTATION\n0    ABL1    E459K\n1    ABL1    F317L\n2    ABL1    G250E\n3    ABL1    M244V\n4    ABL1    M351T\n..    ...      ...\n817  TP53    R249M\n818  TP53    S127Y\n819  TP53    Y220C\n820  TP53    Y220C\n821  TSC2    W358*\n\n[822 rows x 2 columns]",
      "text/html": "<div>\n<style scoped>\n    .dataframe tbody tr th:only-of-type {\n        vertical-align: middle;\n    }\n\n    .dataframe tbody tr th {\n        vertical-align: top;\n    }\n\n    .dataframe thead th {\n        text-align: right;\n    }\n</style>\n<table border=\"1\" class=\"dataframe\">\n  <thead>\n    <tr style=\"text-align: right;\">\n      <th></th>\n      <th>GENE</th>\n      <th>MUTATION</th>\n    </tr>\n  </thead>\n  <tbody>\n    <tr>\n      <th>0</th>\n      <td>ABL1</td>\n      <td>E459K</td>\n    </tr>\n    <tr>\n      <th>1</th>\n      <td>ABL1</td>\n      <td>F317L</td>\n    </tr>\n    <tr>\n      <th>2</th>\n      <td>ABL1</td>\n      <td>G250E</td>\n    </tr>\n    <tr>\n      <th>3</th>\n      <td>ABL1</td>\n      <td>M244V</td>\n    </tr>\n    <tr>\n      <th>4</th>\n      <td>ABL1</td>\n      <td>M351T</td>\n    </tr>\n    <tr>\n      <th>...</th>\n      <td>...</td>\n      <td>...</td>\n    </tr>\n    <tr>\n      <th>817</th>\n      <td>TP53</td>\n      <td>R249M</td>\n    </tr>\n    <tr>\n      <th>818</th>\n      <td>TP53</td>\n      <td>S127Y</td>\n    </tr>\n    <tr>\n      <th>819</th>\n      <td>TP53</td>\n      <td>Y220C</td>\n    </tr>\n    <tr>\n      <th>820</th>\n      <td>TP53</td>\n      <td>Y220C</td>\n    </tr>\n    <tr>\n      <th>821</th>\n      <td>TSC2</td>\n      <td>W358*</td>\n    </tr>\n  </tbody>\n</table>\n<p>822 rows × 2 columns</p>\n</div>"
     },
     "execution_count": 3,
     "metadata": {},
     "output_type": "execute_result"
    }
   ],
   "source": [
    "gene_mutation"
   ]
  },
  {
   "cell_type": "code",
   "execution_count": 4,
   "metadata": {},
   "outputs": [],
   "source": [
    "# gene_mutation.to_csv(\"../../data/cosmic/gene_mutation_actionable.csv\", index=False)"
   ]
  },
  {
   "cell_type": "code",
   "execution_count": 13,
   "metadata": {},
   "outputs": [
    {
     "name": "stdout",
     "output_type": "stream",
     "text": [
      "[7 4 2 1 9 8]\n"
     ]
    },
    {
     "data": {
      "text/plain": "     Unnamed: 0    ID    Gene            Variation  Class  \\\n1          1541  1541     ALK               L1198F      7   \n2          2615  2615   BRCA1                 T47D      5   \n3           628   628   FBXW7                R505L      4   \n4           482   482    TP53                G334R      3   \n5          1141  1141     MET               H1094R      7   \n..          ...   ...     ...                  ...    ...   \n659          53    53   PTPRT                N510K      1   \n660        1490  1490   FGFR2  FGFR2-FAM76A Fusion      7   \n661        2966  2966     KIT         I563_L576del      2   \n662        2920  2920  NFE2L2                 T80K      7   \n663        1044  1044    TSC2                C696Y      4   \n\n                                                  Text  Prediction  \\\n1    In the era of personalized medicine, understan...           7   \n2    BRCA1 accumulates in nuclear foci during S-pha...           4   \n3    γ-secretase inhibitors (GSIs) can block NOTCH ...           4   \n4     Abstract Purpose  Adrenocortical carcinoma (A...           4   \n5    Hereditary papifiary renal carcinoma (HPRC) is...           4   \n..                                                 ...         ...   \n659  The receptor protein tyrosine phosphatase T (P...           1   \n660  Retrospective studies have demonstrated that n...           7   \n661  Most gastrointestinal stromal tumors (GIST) ha...           2   \n662  One of the strategies proposed for the chemopr...           2   \n663  Tuberous sclerosis (TSC) is an autosomal domin...           4   \n\n             Prediction_Name  \n1           Gain-of-function  \n2           Loss-of-function  \n3           Loss-of-function  \n4           Loss-of-function  \n5           Loss-of-function  \n..                       ...  \n659  Likely Loss-of-function  \n660         Gain-of-function  \n661  Likely Gain-of-function  \n662  Likely Gain-of-function  \n663         Loss-of-function  \n\n[525 rows x 8 columns]",
      "text/html": "<div>\n<style scoped>\n    .dataframe tbody tr th:only-of-type {\n        vertical-align: middle;\n    }\n\n    .dataframe tbody tr th {\n        vertical-align: top;\n    }\n\n    .dataframe thead th {\n        text-align: right;\n    }\n</style>\n<table border=\"1\" class=\"dataframe\">\n  <thead>\n    <tr style=\"text-align: right;\">\n      <th></th>\n      <th>Unnamed: 0</th>\n      <th>ID</th>\n      <th>Gene</th>\n      <th>Variation</th>\n      <th>Class</th>\n      <th>Text</th>\n      <th>Prediction</th>\n      <th>Prediction_Name</th>\n    </tr>\n  </thead>\n  <tbody>\n    <tr>\n      <th>1</th>\n      <td>1541</td>\n      <td>1541</td>\n      <td>ALK</td>\n      <td>L1198F</td>\n      <td>7</td>\n      <td>In the era of personalized medicine, understan...</td>\n      <td>7</td>\n      <td>Gain-of-function</td>\n    </tr>\n    <tr>\n      <th>2</th>\n      <td>2615</td>\n      <td>2615</td>\n      <td>BRCA1</td>\n      <td>T47D</td>\n      <td>5</td>\n      <td>BRCA1 accumulates in nuclear foci during S-pha...</td>\n      <td>4</td>\n      <td>Loss-of-function</td>\n    </tr>\n    <tr>\n      <th>3</th>\n      <td>628</td>\n      <td>628</td>\n      <td>FBXW7</td>\n      <td>R505L</td>\n      <td>4</td>\n      <td>γ-secretase inhibitors (GSIs) can block NOTCH ...</td>\n      <td>4</td>\n      <td>Loss-of-function</td>\n    </tr>\n    <tr>\n      <th>4</th>\n      <td>482</td>\n      <td>482</td>\n      <td>TP53</td>\n      <td>G334R</td>\n      <td>3</td>\n      <td>Abstract Purpose  Adrenocortical carcinoma (A...</td>\n      <td>4</td>\n      <td>Loss-of-function</td>\n    </tr>\n    <tr>\n      <th>5</th>\n      <td>1141</td>\n      <td>1141</td>\n      <td>MET</td>\n      <td>H1094R</td>\n      <td>7</td>\n      <td>Hereditary papifiary renal carcinoma (HPRC) is...</td>\n      <td>4</td>\n      <td>Loss-of-function</td>\n    </tr>\n    <tr>\n      <th>...</th>\n      <td>...</td>\n      <td>...</td>\n      <td>...</td>\n      <td>...</td>\n      <td>...</td>\n      <td>...</td>\n      <td>...</td>\n      <td>...</td>\n    </tr>\n    <tr>\n      <th>659</th>\n      <td>53</td>\n      <td>53</td>\n      <td>PTPRT</td>\n      <td>N510K</td>\n      <td>1</td>\n      <td>The receptor protein tyrosine phosphatase T (P...</td>\n      <td>1</td>\n      <td>Likely Loss-of-function</td>\n    </tr>\n    <tr>\n      <th>660</th>\n      <td>1490</td>\n      <td>1490</td>\n      <td>FGFR2</td>\n      <td>FGFR2-FAM76A Fusion</td>\n      <td>7</td>\n      <td>Retrospective studies have demonstrated that n...</td>\n      <td>7</td>\n      <td>Gain-of-function</td>\n    </tr>\n    <tr>\n      <th>661</th>\n      <td>2966</td>\n      <td>2966</td>\n      <td>KIT</td>\n      <td>I563_L576del</td>\n      <td>2</td>\n      <td>Most gastrointestinal stromal tumors (GIST) ha...</td>\n      <td>2</td>\n      <td>Likely Gain-of-function</td>\n    </tr>\n    <tr>\n      <th>662</th>\n      <td>2920</td>\n      <td>2920</td>\n      <td>NFE2L2</td>\n      <td>T80K</td>\n      <td>7</td>\n      <td>One of the strategies proposed for the chemopr...</td>\n      <td>2</td>\n      <td>Likely Gain-of-function</td>\n    </tr>\n    <tr>\n      <th>663</th>\n      <td>1044</td>\n      <td>1044</td>\n      <td>TSC2</td>\n      <td>C696Y</td>\n      <td>4</td>\n      <td>Tuberous sclerosis (TSC) is an autosomal domin...</td>\n      <td>4</td>\n      <td>Loss-of-function</td>\n    </tr>\n  </tbody>\n</table>\n<p>525 rows × 8 columns</p>\n</div>"
     },
     "execution_count": 13,
     "metadata": {},
     "output_type": "execute_result"
    }
   ],
   "source": [
    "import pandas as pd\n",
    "\n",
    "predictions = pd.read_csv(\"../DeepLearningPredictions.csv\")\n",
    "predictions_driver = predictions[~predictions[\"Prediction\"].isin([3, 5, 6])]\n",
    "print(predictions_driver[\"Prediction\"].unique())\n",
    "predictions_driver"
   ]
  },
  {
   "cell_type": "code",
   "execution_count": 17,
   "outputs": [
    {
     "data": {
      "text/plain": "       Gene            Variation  Prediction\n1       ALK               L1198F           7\n2     BRCA1                 T47D           4\n3     FBXW7                R505L           4\n4      TP53                G334R           4\n5       MET               H1094R           4\n..      ...                  ...         ...\n659   PTPRT                N510K           1\n660   FGFR2  FGFR2-FAM76A Fusion           7\n661     KIT         I563_L576del           2\n662  NFE2L2                 T80K           2\n663    TSC2                C696Y           4\n\n[525 rows x 3 columns]",
      "text/html": "<div>\n<style scoped>\n    .dataframe tbody tr th:only-of-type {\n        vertical-align: middle;\n    }\n\n    .dataframe tbody tr th {\n        vertical-align: top;\n    }\n\n    .dataframe thead th {\n        text-align: right;\n    }\n</style>\n<table border=\"1\" class=\"dataframe\">\n  <thead>\n    <tr style=\"text-align: right;\">\n      <th></th>\n      <th>Gene</th>\n      <th>Variation</th>\n      <th>Prediction</th>\n    </tr>\n  </thead>\n  <tbody>\n    <tr>\n      <th>1</th>\n      <td>ALK</td>\n      <td>L1198F</td>\n      <td>7</td>\n    </tr>\n    <tr>\n      <th>2</th>\n      <td>BRCA1</td>\n      <td>T47D</td>\n      <td>4</td>\n    </tr>\n    <tr>\n      <th>3</th>\n      <td>FBXW7</td>\n      <td>R505L</td>\n      <td>4</td>\n    </tr>\n    <tr>\n      <th>4</th>\n      <td>TP53</td>\n      <td>G334R</td>\n      <td>4</td>\n    </tr>\n    <tr>\n      <th>5</th>\n      <td>MET</td>\n      <td>H1094R</td>\n      <td>4</td>\n    </tr>\n    <tr>\n      <th>...</th>\n      <td>...</td>\n      <td>...</td>\n      <td>...</td>\n    </tr>\n    <tr>\n      <th>659</th>\n      <td>PTPRT</td>\n      <td>N510K</td>\n      <td>1</td>\n    </tr>\n    <tr>\n      <th>660</th>\n      <td>FGFR2</td>\n      <td>FGFR2-FAM76A Fusion</td>\n      <td>7</td>\n    </tr>\n    <tr>\n      <th>661</th>\n      <td>KIT</td>\n      <td>I563_L576del</td>\n      <td>2</td>\n    </tr>\n    <tr>\n      <th>662</th>\n      <td>NFE2L2</td>\n      <td>T80K</td>\n      <td>2</td>\n    </tr>\n    <tr>\n      <th>663</th>\n      <td>TSC2</td>\n      <td>C696Y</td>\n      <td>4</td>\n    </tr>\n  </tbody>\n</table>\n<p>525 rows × 3 columns</p>\n</div>"
     },
     "execution_count": 17,
     "metadata": {},
     "output_type": "execute_result"
    }
   ],
   "source": [
    "predictions_driver = predictions_driver[[\"Gene\", \"Variation\", \"Prediction\"]].drop_duplicates().copy()\n",
    "predictions_driver"
   ],
   "metadata": {
    "collapsed": false
   }
  },
  {
   "cell_type": "code",
   "execution_count": 18,
   "metadata": {},
   "outputs": [],
   "source": [
    "common = []\n",
    "\n",
    "for index, row in predictions_driver.iterrows():\n",
    "    pred_gene = row[\"Gene\"]\n",
    "    pred_variation = row[\"Variation\"]\n",
    "    for index2, row2 in gene_mutation.iterrows():\n",
    "        cosmic_gene = row2[\"GENE\"]\n",
    "        cosmic_mutation = row2[\"MUTATION\"]\n",
    "\n",
    "        if (pred_gene == cosmic_gene) and (pred_variation == cosmic_mutation):\n",
    "            common.append((pred_gene, pred_variation))"
   ]
  },
  {
   "cell_type": "code",
   "execution_count": 19,
   "outputs": [
    {
     "data": {
      "text/plain": "          0             1\n0       ALK        L1198F\n1       SMO         Q477E\n4       KIT  W557_K558del\n5       KIT         K642E\n12     KRAS          G12C\n97     NRAS          Q61H\n99     BRAF         V600E\n208   FOXL2         C134W\n209    EGFR         S768I\n212   FGFR3         S249C\n213     MET         N375S\n221    NRAS          G13D\n222  CTNNB1          S45P\n223   ERBB2         L755P\n224    EGFR         T790M",
      "text/html": "<div>\n<style scoped>\n    .dataframe tbody tr th:only-of-type {\n        vertical-align: middle;\n    }\n\n    .dataframe tbody tr th {\n        vertical-align: top;\n    }\n\n    .dataframe thead th {\n        text-align: right;\n    }\n</style>\n<table border=\"1\" class=\"dataframe\">\n  <thead>\n    <tr style=\"text-align: right;\">\n      <th></th>\n      <th>0</th>\n      <th>1</th>\n    </tr>\n  </thead>\n  <tbody>\n    <tr>\n      <th>0</th>\n      <td>ALK</td>\n      <td>L1198F</td>\n    </tr>\n    <tr>\n      <th>1</th>\n      <td>SMO</td>\n      <td>Q477E</td>\n    </tr>\n    <tr>\n      <th>4</th>\n      <td>KIT</td>\n      <td>W557_K558del</td>\n    </tr>\n    <tr>\n      <th>5</th>\n      <td>KIT</td>\n      <td>K642E</td>\n    </tr>\n    <tr>\n      <th>12</th>\n      <td>KRAS</td>\n      <td>G12C</td>\n    </tr>\n    <tr>\n      <th>97</th>\n      <td>NRAS</td>\n      <td>Q61H</td>\n    </tr>\n    <tr>\n      <th>99</th>\n      <td>BRAF</td>\n      <td>V600E</td>\n    </tr>\n    <tr>\n      <th>208</th>\n      <td>FOXL2</td>\n      <td>C134W</td>\n    </tr>\n    <tr>\n      <th>209</th>\n      <td>EGFR</td>\n      <td>S768I</td>\n    </tr>\n    <tr>\n      <th>212</th>\n      <td>FGFR3</td>\n      <td>S249C</td>\n    </tr>\n    <tr>\n      <th>213</th>\n      <td>MET</td>\n      <td>N375S</td>\n    </tr>\n    <tr>\n      <th>221</th>\n      <td>NRAS</td>\n      <td>G13D</td>\n    </tr>\n    <tr>\n      <th>222</th>\n      <td>CTNNB1</td>\n      <td>S45P</td>\n    </tr>\n    <tr>\n      <th>223</th>\n      <td>ERBB2</td>\n      <td>L755P</td>\n    </tr>\n    <tr>\n      <th>224</th>\n      <td>EGFR</td>\n      <td>T790M</td>\n    </tr>\n  </tbody>\n</table>\n</div>"
     },
     "execution_count": 19,
     "metadata": {},
     "output_type": "execute_result"
    }
   ],
   "source": [
    "pd.DataFrame(common).drop_duplicates()"
   ],
   "metadata": {
    "collapsed": false
   }
  },
  {
   "cell_type": "code",
   "execution_count": null,
   "outputs": [],
   "source": [],
   "metadata": {
    "collapsed": false
   }
  },
  {
   "cell_type": "code",
   "execution_count": null,
   "outputs": [],
   "source": [],
   "metadata": {
    "collapsed": false
   }
  },
  {
   "cell_type": "code",
   "execution_count": null,
   "outputs": [],
   "source": [],
   "metadata": {
    "collapsed": false
   }
  }
 ],
 "metadata": {
  "kernelspec": {
   "display_name": "MyDL",
   "language": "python",
   "name": "python3"
  },
  "language_info": {
   "codemirror_mode": {
    "name": "ipython",
    "version": 3
   },
   "file_extension": ".py",
   "mimetype": "text/x-python",
   "name": "python",
   "nbconvert_exporter": "python",
   "pygments_lexer": "ipython3",
   "version": "3.10.8"
  },
  "orig_nbformat": 4,
  "vscode": {
   "interpreter": {
    "hash": "01bf90b7dd1684ea134c140ef937c1b6bcfb6afeaf225ca1f0e07c45896712d6"
   }
  }
 },
 "nbformat": 4,
 "nbformat_minor": 2
}
