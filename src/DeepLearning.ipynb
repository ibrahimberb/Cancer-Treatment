{
 "cells": [
  {
   "cell_type": "code",
   "execution_count": 1,
   "metadata": {},
   "outputs": [],
   "source": [
    "import pandas as pd\n",
    "import numpy as np\n",
    "\n",
    "from sklearn.feature_extraction.text import TfidfVectorizer\n",
    "from sklearn.svm import SVC\n",
    "from sklearn.linear_model import LogisticRegression\n",
    "from sklearn.ensemble import RandomForestClassifier\n",
    "from sklearn.naive_bayes import MultinomialNB\n",
    "from sklearn.neighbors import KNeighborsClassifier\n",
    "from sklearn.tree import DecisionTreeClassifier\n",
    "from sklearn.ensemble import AdaBoostClassifier\n",
    "from sklearn.ensemble import GradientBoostingClassifier\n",
    "from sklearn.ensemble import ExtraTreesClassifier\n",
    "from sklearn.ensemble import BaggingClassifier\n",
    "from sklearn.neural_network import MLPClassifier\n",
    "from sklearn.gaussian_process import GaussianProcessClassifier\n",
    "from sklearn.gaussian_process.kernels import RBF\n",
    "from sklearn.naive_bayes import GaussianNB\n",
    "\n",
    "from sklearn.model_selection import train_test_split\n",
    "from sklearn.metrics import accuracy_score, balanced_accuracy_score, precision_score, recall_score\n",
    "\n",
    "from matplotlib import pyplot as plt\n",
    "\n",
    "from data_handler import TrainDataHandler\n",
    "\n",
    "TRAIN_VARIANTS_PATH = \"../data/training_variants/training_variants\"\n",
    "TRAIN_TEXT_PATH = \"../data/training_text/training_text\"\n",
    "\n",
    "\n",
    "# Reflect changes in the modules immediately.\n",
    "%load_ext autoreload\n",
    "%autoreload 2"
   ]
  },
  {
   "cell_type": "code",
   "execution_count": 2,
   "metadata": {},
   "outputs": [
    {
     "name": "stdout",
     "output_type": "stream",
     "text": [
      "2022-12-18 22:30:25 |\u001B[36m DEBUG    \u001B[0m| data_handler         | Loading the train variants data..\n",
      "2022-12-18 22:30:25 |\u001B[36m DEBUG    \u001B[0m| data_handler         | Loading the train text data..\n",
      "2022-12-18 22:30:27 |\u001B[36m DEBUG    \u001B[0m| data_handler         | Preparing train data ..\n",
      "2022-12-18 22:30:27 |\u001B[32m INFO     \u001B[0m| data_handler         | Train data is loaded. (Data size: (3316, 5))\n"
     ]
    }
   ],
   "source": [
    "train_data_handler = TrainDataHandler(TRAIN_VARIANTS_PATH, TRAIN_TEXT_PATH)"
   ]
  },
  {
   "cell_type": "code",
   "execution_count": 3,
   "metadata": {
    "collapsed": false
   },
   "outputs": [
    {
     "data": {
      "text/html": [
       "<div>\n",
       "<style scoped>\n",
       "    .dataframe tbody tr th:only-of-type {\n",
       "        vertical-align: middle;\n",
       "    }\n",
       "\n",
       "    .dataframe tbody tr th {\n",
       "        vertical-align: top;\n",
       "    }\n",
       "\n",
       "    .dataframe thead th {\n",
       "        text-align: right;\n",
       "    }\n",
       "</style>\n",
       "<table border=\"1\" class=\"dataframe\">\n",
       "  <thead>\n",
       "    <tr style=\"text-align: right;\">\n",
       "      <th></th>\n",
       "      <th>ID</th>\n",
       "      <th>Gene</th>\n",
       "      <th>Variation</th>\n",
       "      <th>Class</th>\n",
       "      <th>Text</th>\n",
       "    </tr>\n",
       "  </thead>\n",
       "  <tbody>\n",
       "    <tr>\n",
       "      <th>0</th>\n",
       "      <td>0</td>\n",
       "      <td>FAM58A</td>\n",
       "      <td>Truncating Mutations</td>\n",
       "      <td>1</td>\n",
       "      <td>Cyclin-dependent kinases (CDKs) regulate a var...</td>\n",
       "    </tr>\n",
       "    <tr>\n",
       "      <th>1</th>\n",
       "      <td>1</td>\n",
       "      <td>CBL</td>\n",
       "      <td>W802*</td>\n",
       "      <td>2</td>\n",
       "      <td>Abstract Background  Non-small cell lung canc...</td>\n",
       "    </tr>\n",
       "    <tr>\n",
       "      <th>2</th>\n",
       "      <td>2</td>\n",
       "      <td>CBL</td>\n",
       "      <td>Q249E</td>\n",
       "      <td>2</td>\n",
       "      <td>Abstract Background  Non-small cell lung canc...</td>\n",
       "    </tr>\n",
       "    <tr>\n",
       "      <th>3</th>\n",
       "      <td>3</td>\n",
       "      <td>CBL</td>\n",
       "      <td>N454D</td>\n",
       "      <td>3</td>\n",
       "      <td>Recent evidence has demonstrated that acquired...</td>\n",
       "    </tr>\n",
       "    <tr>\n",
       "      <th>4</th>\n",
       "      <td>4</td>\n",
       "      <td>CBL</td>\n",
       "      <td>L399V</td>\n",
       "      <td>4</td>\n",
       "      <td>Oncogenic mutations in the monomeric Casitas B...</td>\n",
       "    </tr>\n",
       "  </tbody>\n",
       "</table>\n",
       "</div>"
      ],
      "text/plain": [
       "   ID    Gene             Variation  Class  \\\n",
       "0   0  FAM58A  Truncating Mutations      1   \n",
       "1   1     CBL                 W802*      2   \n",
       "2   2     CBL                 Q249E      2   \n",
       "3   3     CBL                 N454D      3   \n",
       "4   4     CBL                 L399V      4   \n",
       "\n",
       "                                                Text  \n",
       "0  Cyclin-dependent kinases (CDKs) regulate a var...  \n",
       "1   Abstract Background  Non-small cell lung canc...  \n",
       "2   Abstract Background  Non-small cell lung canc...  \n",
       "3  Recent evidence has demonstrated that acquired...  \n",
       "4  Oncogenic mutations in the monomeric Casitas B...  "
      ]
     },
     "execution_count": 3,
     "metadata": {},
     "output_type": "execute_result"
    }
   ],
   "source": [
    "train_data = train_data_handler.train_data.copy()\n",
    "train_data.head()"
   ]
  },
  {
   "cell_type": "code",
   "execution_count": 4,
   "metadata": {
    "collapsed": false
   },
   "outputs": [],
   "source": [
    "def my_precision_score(y_true, y_pred):\n",
    "    return precision_score(y_true, y_pred, average=\"weighted\")\n",
    "\n",
    "\n",
    "def my_recall_score(y_true, y_pred):\n",
    "    return recall_score(y_true, y_pred, average=\"weighted\")"
   ]
  },
  {
   "cell_type": "code",
   "execution_count": 5,
   "metadata": {
    "collapsed": false
   },
   "outputs": [],
   "source": [
    "EVAL_METRIC_DICT = {\n",
    "    \"accuracy_score\": accuracy_score,\n",
    "    \"balanced_accuracy_score\": balanced_accuracy_score,\n",
    "    \"precision_score\": my_precision_score,\n",
    "    \"recall_score\": my_recall_score,\n",
    "}"
   ]
  },
  {
   "cell_type": "code",
   "execution_count": 5,
   "metadata": {
    "collapsed": false
   },
   "outputs": [],
   "source": []
  },
  {
   "cell_type": "code",
   "execution_count": 6,
   "metadata": {},
   "outputs": [
    {
     "name": "stdout",
     "output_type": "stream",
     "text": [
      "/device:GPU:0\n",
      "Model: \"sequential\"\n",
      "_________________________________________________________________\n",
      " Layer (type)                Output Shape              Param #   \n",
      "=================================================================\n",
      " embedding (Embedding)       (None, 100, 50)           8276050   \n",
      "                                                                 \n",
      " global_max_pooling1d (Globa  (None, 50)               0         \n",
      " lMaxPooling1D)                                                  \n",
      "                                                                 \n",
      " dense (Dense)               (None, 10)                510       \n",
      "                                                                 \n",
      " dense_1 (Dense)             (None, 10)                110       \n",
      "                                                                 \n",
      "=================================================================\n",
      "Total params: 8,276,670\n",
      "Trainable params: 8,276,670\n",
      "Non-trainable params: 0\n",
      "_________________________________________________________________\n",
      "Model summary:  None\n",
      "Training Accuracy: 0.8341 | Loss: 0.3426\n",
      "Test Accuracy: 0.5527 | Loss: 2.3359\n",
      "21/21 [==============================] - 0s 2ms/step\n",
      "Accuracy score for classifier:  0.552710843373494\n"
     ]
    }
   ],
   "source": [
    "# use NLP to classify the text deep learning\n",
    "import tensorflow as tf\n",
    "from tensorflow import keras\n",
    "from tensorflow.keras import layers\n",
    "from tensorflow.keras.preprocessing.text import Tokenizer\n",
    "from tensorflow.keras.preprocessing.sequence import pad_sequences\n",
    "\n",
    "# tf.keras.metrics.binary_accuracy\n",
    "\n",
    "# ensure that code uses GPU\n",
    "print(tf.test.gpu_device_name())\n",
    "\n",
    "# split the data into train and test\n",
    "X_train, X_test, y_train, y_test = train_test_split(train_data['Text'], train_data['Class'], test_size=0.2,\n",
    "                                                            random_state=0)\n",
    "\n",
    "# vectorize the text\n",
    "tokenizer = Tokenizer(num_words=5000)\n",
    "tokenizer.fit_on_texts(X_train)\n",
    "\n",
    "X_train_enc = tokenizer.texts_to_sequences(X_train)\n",
    "X_test_enc = tokenizer.texts_to_sequences(X_test)\n",
    "\n",
    "vocab_size = len(tokenizer.word_index) + 1\n",
    "\n",
    "maxlen = 100\n",
    "\n",
    "X_train_enc = pad_sequences(X_train_enc, padding='post', maxlen=maxlen)\n",
    "X_test_enc = pad_sequences(X_test_enc, padding='post', maxlen=maxlen)\n",
    "\n",
    "# train the model\n",
    "embedding_dim = 50\n",
    "\n",
    "model = keras.Sequential()\n",
    "model.add(layers.Embedding(\n",
    "    input_dim=vocab_size,\n",
    "    output_dim=embedding_dim,\n",
    "    input_length=maxlen)\n",
    ")\n",
    "model.add(layers.GlobalMaxPool1D())\n",
    "model.add(layers.Dense(10, activation='relu'))\n",
    "model.add(layers.Dense(10, activation='softmax'))\n",
    "model.compile(\n",
    "    optimizer='adam',\n",
    "    loss='sparse_categorical_crossentropy',\n",
    "    metrics=['accuracy']\n",
    ")\n",
    "print(\"Model summary: \", model.summary())\n",
    "\n",
    "history = model.fit(\n",
    "    X_train_enc, y_train,\n",
    "    epochs=200,\n",
    "    verbose=False,\n",
    "    validation_data=(X_test_enc, y_test)\n",
    ")\n",
    "\n",
    "loss, accuracy = model.evaluate(X_train_enc, y_train, verbose=False)\n",
    "print(\"Training Accuracy: {:.4f} | Loss: {:.4f}\".format(accuracy, loss))\n",
    "loss, accuracy = model.evaluate(X_test_enc, y_test, verbose=False)\n",
    "print(\"Test Accuracy: {:.4f} | Loss: {:.4f}\".format(accuracy, loss))\n",
    "\n",
    "# predict the test data\n",
    "pred = model.predict(X_test_enc)\n",
    "pred = np.argmax(pred, axis=1)\n",
    "\n",
    "print(\"Accuracy score for classifier: \", accuracy_score(y_test, pred))"
   ]
  },
  {
   "cell_type": "code",
   "execution_count": 7,
   "metadata": {},
   "outputs": [
    {
     "data": {
      "image/png": "[encoded data removed]",
      "text/plain": [
       "<Figure size 1000x1000 with 2 Axes>"
      ]
     },
     "metadata": {},
     "output_type": "display_data"
    }
   ],
   "source": [
    "# confusion matrix\n",
    "from sklearn.metrics import confusion_matrix\n",
    "\n",
    "cm = confusion_matrix(y_test, pred)\n",
    "\n",
    "# plot confusion matrix\n",
    "import seaborn as sns\n",
    "import matplotlib.pyplot as plt\n",
    "\n",
    "plt.figure(figsize=(10, 10))\n",
    "sns.heatmap(cm, annot=True, fmt=\"d\")\n",
    "plt.title(\"Confusion matrix\")\n",
    "plt.ylabel('Actual label')\n",
    "plt.xlabel('Predicted label')\n",
    "plt.show()"
   ]
  },
  {
   "cell_type": "code",
   "execution_count": 21,
   "metadata": {},
   "outputs": [],
   "source": [
    "from exploratory_data_analysis import mapping\n",
    "\n",
    "final_pred = train_data.loc[X_test.index, :].copy()\n",
    "final_pred[\"Prediction\"] = pred\n",
    "final_pred[\"Prediction_Name\"] = final_pred[\"Prediction\"].replace(mapping)"
   ]
  },
  {
   "cell_type": "code",
   "execution_count": 24,
   "metadata": {},
   "outputs": [
    {
     "data": {
      "text/plain": "      ID  Gene                              Variation  Class  \\\n453  453  TP53                                  H168R      4   \n482  482  TP53                                  G334R      3   \n489  489  TP53                                  R280T      1   \n410  410  TP53                                  S121C      6   \n480  480  TP53  DNA binding domain missense mutations      4   \n483  483  TP53                                  V173L      4   \n405  405  TP53                                  C242F      1   \n402  402  TP53                                  Q331H      1   \n472  472  TP53                                  A347T      1   \n399  399  TP53                                  S240R      1   \n496  496  TP53                                  L344P      4   \n520  520  TP53                                  V197E      1   \n485  485  TP53                                  H193N      4   \n418  418  TP53                                  R110L      1   \n380  380  TP53                                  S241T      4   \n499  499  TP53                                  K291E      1   \n467  467  TP53                                  C229R      1   \n463  463  TP53                                  H179R      4   \n526  526  TP53                                  H214N      1   \n461  461  TP53                                  K292T      1   \n501  501  TP53                                  S241Y      4   \n465  465  TP53                                  V143A      1   \n517  517  TP53                                  Y234C      4   \n514  514  TP53                                  R181H      4   \n436  436  TP53                                  H168N      1   \n385  385  TP53                                  R249W      4   \n422  422  TP53                                  L344R      1   \n527  527  TP53                                  C238S      4   \n531  531  TP53                                  G266E      1   \n446  446  TP53                                  V272L      1   \n530  530  TP53                                  R337L      1   \n\n                                                  Text  Prediction  \\\n453  The tumor suppressor protein p53 acts as a tra...           5   \n482   Abstract Purpose  Adrenocortical carcinoma (A...           4   \n489  p53 mutation is associated with “gain-of-funct...           7   \n410  Tumor suppressor p53-dependent apoptosis is th...           6   \n480  Mutations in the p53 tumor suppressor are the ...           1   \n483  The transcription factor and tumor suppressor ...           4   \n405  The tumor suppressor protein p53 is inactivate...           2   \n402  Mutational hotspots indicate selective pressur...           1   \n472  The tumor suppressor protein p53 is a transcri...           1   \n399  Inheritance of germ-line mutant alleles of BRC...           1   \n496  The tumor suppressor protein p53 is a transcri...           4   \n520  The PTTG1-binding factor (PBF) is a transformi...           1   \n485  Both sequence-specific DNA binding and exonucl...           5   \n418  Many p53 missense mutations possess dominant-n...           1   \n380  The tumour suppressor gene p53 is frequently m...           1   \n499  Tumor suppressor p53-dependent apoptosis is th...           1   \n467   Abstract Purpose  Adrenocortical carcinoma (A...           4   \n463   Abstract Chronic myelogenous leukemia (CML) i...           4   \n526  Both sequence-specific DNA binding and exonucl...           5   \n461  Tumor suppressor p53-dependent apoptosis is th...           1   \n501   Abstract Purpose  Adrenocortical carcinoma (A...           4   \n465  The Li-Fraumeni Syndrome (LFS) is a rare, domi...           1   \n517  Inheritance of germ-line mutant alleles of BRC...           4   \n514  The tumor suppressor p53 is known as the “guar...           1   \n436  Both sequence-specific DNA binding and exonucl...           5   \n385   Abstract Exposure to herbal remedies containi...           1   \n422  The tumor suppressor protein p53 is a transcri...           1   \n527  Reporter gene transactivation by human p53 is ...           1   \n531  p53 is a sequence-specific transcription facto...           1   \n446  Mutations of the sequence-specific master regu...           1   \n530  The tumor suppressor protein p53 is a transcri...           1   \n\n             Prediction_Name  \n453           Likely Neutral  \n482         Loss-of-function  \n489         Gain-of-function  \n410             Inconclusive  \n480  Likely Loss-of-function  \n483         Loss-of-function  \n405  Likely Gain-of-function  \n402  Likely Loss-of-function  \n472  Likely Loss-of-function  \n399  Likely Loss-of-function  \n496         Loss-of-function  \n520  Likely Loss-of-function  \n485           Likely Neutral  \n418  Likely Loss-of-function  \n380  Likely Loss-of-function  \n499  Likely Loss-of-function  \n467         Loss-of-function  \n463         Loss-of-function  \n526           Likely Neutral  \n461  Likely Loss-of-function  \n501         Loss-of-function  \n465  Likely Loss-of-function  \n517         Loss-of-function  \n514  Likely Loss-of-function  \n436           Likely Neutral  \n385  Likely Loss-of-function  \n422  Likely Loss-of-function  \n527  Likely Loss-of-function  \n531  Likely Loss-of-function  \n446  Likely Loss-of-function  \n530  Likely Loss-of-function  ",
      "text/html": "<div>\n<style scoped>\n    .dataframe tbody tr th:only-of-type {\n        vertical-align: middle;\n    }\n\n    .dataframe tbody tr th {\n        vertical-align: top;\n    }\n\n    .dataframe thead th {\n        text-align: right;\n    }\n</style>\n<table border=\"1\" class=\"dataframe\">\n  <thead>\n    <tr style=\"text-align: right;\">\n      <th></th>\n      <th>ID</th>\n      <th>Gene</th>\n      <th>Variation</th>\n      <th>Class</th>\n      <th>Text</th>\n      <th>Prediction</th>\n      <th>Prediction_Name</th>\n    </tr>\n  </thead>\n  <tbody>\n    <tr>\n      <th>453</th>\n      <td>453</td>\n      <td>TP53</td>\n      <td>H168R</td>\n      <td>4</td>\n      <td>The tumor suppressor protein p53 acts as a tra...</td>\n      <td>5</td>\n      <td>Likely Neutral</td>\n    </tr>\n    <tr>\n      <th>482</th>\n      <td>482</td>\n      <td>TP53</td>\n      <td>G334R</td>\n      <td>3</td>\n      <td>Abstract Purpose  Adrenocortical carcinoma (A...</td>\n      <td>4</td>\n      <td>Loss-of-function</td>\n    </tr>\n    <tr>\n      <th>489</th>\n      <td>489</td>\n      <td>TP53</td>\n      <td>R280T</td>\n      <td>1</td>\n      <td>p53 mutation is associated with “gain-of-funct...</td>\n      <td>7</td>\n      <td>Gain-of-function</td>\n    </tr>\n    <tr>\n      <th>410</th>\n      <td>410</td>\n      <td>TP53</td>\n      <td>S121C</td>\n      <td>6</td>\n      <td>Tumor suppressor p53-dependent apoptosis is th...</td>\n      <td>6</td>\n      <td>Inconclusive</td>\n    </tr>\n    <tr>\n      <th>480</th>\n      <td>480</td>\n      <td>TP53</td>\n      <td>DNA binding domain missense mutations</td>\n      <td>4</td>\n      <td>Mutations in the p53 tumor suppressor are the ...</td>\n      <td>1</td>\n      <td>Likely Loss-of-function</td>\n    </tr>\n    <tr>\n      <th>483</th>\n      <td>483</td>\n      <td>TP53</td>\n      <td>V173L</td>\n      <td>4</td>\n      <td>The transcription factor and tumor suppressor ...</td>\n      <td>4</td>\n      <td>Loss-of-function</td>\n    </tr>\n    <tr>\n      <th>405</th>\n      <td>405</td>\n      <td>TP53</td>\n      <td>C242F</td>\n      <td>1</td>\n      <td>The tumor suppressor protein p53 is inactivate...</td>\n      <td>2</td>\n      <td>Likely Gain-of-function</td>\n    </tr>\n    <tr>\n      <th>402</th>\n      <td>402</td>\n      <td>TP53</td>\n      <td>Q331H</td>\n      <td>1</td>\n      <td>Mutational hotspots indicate selective pressur...</td>\n      <td>1</td>\n      <td>Likely Loss-of-function</td>\n    </tr>\n    <tr>\n      <th>472</th>\n      <td>472</td>\n      <td>TP53</td>\n      <td>A347T</td>\n      <td>1</td>\n      <td>The tumor suppressor protein p53 is a transcri...</td>\n      <td>1</td>\n      <td>Likely Loss-of-function</td>\n    </tr>\n    <tr>\n      <th>399</th>\n      <td>399</td>\n      <td>TP53</td>\n      <td>S240R</td>\n      <td>1</td>\n      <td>Inheritance of germ-line mutant alleles of BRC...</td>\n      <td>1</td>\n      <td>Likely Loss-of-function</td>\n    </tr>\n    <tr>\n      <th>496</th>\n      <td>496</td>\n      <td>TP53</td>\n      <td>L344P</td>\n      <td>4</td>\n      <td>The tumor suppressor protein p53 is a transcri...</td>\n      <td>4</td>\n      <td>Loss-of-function</td>\n    </tr>\n    <tr>\n      <th>520</th>\n      <td>520</td>\n      <td>TP53</td>\n      <td>V197E</td>\n      <td>1</td>\n      <td>The PTTG1-binding factor (PBF) is a transformi...</td>\n      <td>1</td>\n      <td>Likely Loss-of-function</td>\n    </tr>\n    <tr>\n      <th>485</th>\n      <td>485</td>\n      <td>TP53</td>\n      <td>H193N</td>\n      <td>4</td>\n      <td>Both sequence-specific DNA binding and exonucl...</td>\n      <td>5</td>\n      <td>Likely Neutral</td>\n    </tr>\n    <tr>\n      <th>418</th>\n      <td>418</td>\n      <td>TP53</td>\n      <td>R110L</td>\n      <td>1</td>\n      <td>Many p53 missense mutations possess dominant-n...</td>\n      <td>1</td>\n      <td>Likely Loss-of-function</td>\n    </tr>\n    <tr>\n      <th>380</th>\n      <td>380</td>\n      <td>TP53</td>\n      <td>S241T</td>\n      <td>4</td>\n      <td>The tumour suppressor gene p53 is frequently m...</td>\n      <td>1</td>\n      <td>Likely Loss-of-function</td>\n    </tr>\n    <tr>\n      <th>499</th>\n      <td>499</td>\n      <td>TP53</td>\n      <td>K291E</td>\n      <td>1</td>\n      <td>Tumor suppressor p53-dependent apoptosis is th...</td>\n      <td>1</td>\n      <td>Likely Loss-of-function</td>\n    </tr>\n    <tr>\n      <th>467</th>\n      <td>467</td>\n      <td>TP53</td>\n      <td>C229R</td>\n      <td>1</td>\n      <td>Abstract Purpose  Adrenocortical carcinoma (A...</td>\n      <td>4</td>\n      <td>Loss-of-function</td>\n    </tr>\n    <tr>\n      <th>463</th>\n      <td>463</td>\n      <td>TP53</td>\n      <td>H179R</td>\n      <td>4</td>\n      <td>Abstract Chronic myelogenous leukemia (CML) i...</td>\n      <td>4</td>\n      <td>Loss-of-function</td>\n    </tr>\n    <tr>\n      <th>526</th>\n      <td>526</td>\n      <td>TP53</td>\n      <td>H214N</td>\n      <td>1</td>\n      <td>Both sequence-specific DNA binding and exonucl...</td>\n      <td>5</td>\n      <td>Likely Neutral</td>\n    </tr>\n    <tr>\n      <th>461</th>\n      <td>461</td>\n      <td>TP53</td>\n      <td>K292T</td>\n      <td>1</td>\n      <td>Tumor suppressor p53-dependent apoptosis is th...</td>\n      <td>1</td>\n      <td>Likely Loss-of-function</td>\n    </tr>\n    <tr>\n      <th>501</th>\n      <td>501</td>\n      <td>TP53</td>\n      <td>S241Y</td>\n      <td>4</td>\n      <td>Abstract Purpose  Adrenocortical carcinoma (A...</td>\n      <td>4</td>\n      <td>Loss-of-function</td>\n    </tr>\n    <tr>\n      <th>465</th>\n      <td>465</td>\n      <td>TP53</td>\n      <td>V143A</td>\n      <td>1</td>\n      <td>The Li-Fraumeni Syndrome (LFS) is a rare, domi...</td>\n      <td>1</td>\n      <td>Likely Loss-of-function</td>\n    </tr>\n    <tr>\n      <th>517</th>\n      <td>517</td>\n      <td>TP53</td>\n      <td>Y234C</td>\n      <td>4</td>\n      <td>Inheritance of germ-line mutant alleles of BRC...</td>\n      <td>4</td>\n      <td>Loss-of-function</td>\n    </tr>\n    <tr>\n      <th>514</th>\n      <td>514</td>\n      <td>TP53</td>\n      <td>R181H</td>\n      <td>4</td>\n      <td>The tumor suppressor p53 is known as the “guar...</td>\n      <td>1</td>\n      <td>Likely Loss-of-function</td>\n    </tr>\n    <tr>\n      <th>436</th>\n      <td>436</td>\n      <td>TP53</td>\n      <td>H168N</td>\n      <td>1</td>\n      <td>Both sequence-specific DNA binding and exonucl...</td>\n      <td>5</td>\n      <td>Likely Neutral</td>\n    </tr>\n    <tr>\n      <th>385</th>\n      <td>385</td>\n      <td>TP53</td>\n      <td>R249W</td>\n      <td>4</td>\n      <td>Abstract Exposure to herbal remedies containi...</td>\n      <td>1</td>\n      <td>Likely Loss-of-function</td>\n    </tr>\n    <tr>\n      <th>422</th>\n      <td>422</td>\n      <td>TP53</td>\n      <td>L344R</td>\n      <td>1</td>\n      <td>The tumor suppressor protein p53 is a transcri...</td>\n      <td>1</td>\n      <td>Likely Loss-of-function</td>\n    </tr>\n    <tr>\n      <th>527</th>\n      <td>527</td>\n      <td>TP53</td>\n      <td>C238S</td>\n      <td>4</td>\n      <td>Reporter gene transactivation by human p53 is ...</td>\n      <td>1</td>\n      <td>Likely Loss-of-function</td>\n    </tr>\n    <tr>\n      <th>531</th>\n      <td>531</td>\n      <td>TP53</td>\n      <td>G266E</td>\n      <td>1</td>\n      <td>p53 is a sequence-specific transcription facto...</td>\n      <td>1</td>\n      <td>Likely Loss-of-function</td>\n    </tr>\n    <tr>\n      <th>446</th>\n      <td>446</td>\n      <td>TP53</td>\n      <td>V272L</td>\n      <td>1</td>\n      <td>Mutations of the sequence-specific master regu...</td>\n      <td>1</td>\n      <td>Likely Loss-of-function</td>\n    </tr>\n    <tr>\n      <th>530</th>\n      <td>530</td>\n      <td>TP53</td>\n      <td>R337L</td>\n      <td>1</td>\n      <td>The tumor suppressor protein p53 is a transcri...</td>\n      <td>1</td>\n      <td>Likely Loss-of-function</td>\n    </tr>\n  </tbody>\n</table>\n</div>"
     },
     "execution_count": 24,
     "metadata": {},
     "output_type": "execute_result"
    }
   ],
   "source": [
    "final_pred[final_pred[\"Gene\"] == \"TP53\"]"
   ]
  },
  {
   "cell_type": "code",
   "execution_count": 25,
   "outputs": [],
   "source": [
    "final_pred.to_csv(\"DeepLearningPredictions.csv\")"
   ],
   "metadata": {
    "collapsed": false
   }
  },
  {
   "cell_type": "code",
   "execution_count": null,
   "metadata": {},
   "outputs": [],
   "source": []
  }
 ],
 "metadata": {
  "kernelspec": {
   "display_name": "MyDeepLearning",
   "language": "python",
   "name": "mydeeplearning"
  },
  "language_info": {
   "codemirror_mode": {
    "name": "ipython",
    "version": 3
   },
   "file_extension": ".py",
   "mimetype": "text/x-python",
   "name": "python",
   "nbconvert_exporter": "python",
   "pygments_lexer": "ipython3",
   "version": "3.10.8"
  },
  "orig_nbformat": 4,
  "vscode": {
   "interpreter": {
    "hash": "5240663cdcad6f9d8bc3c0618495d7abb1c94afaa089854d380091b378a272df"
   }
  }
 },
 "nbformat": 4,
 "nbformat_minor": 2
}
